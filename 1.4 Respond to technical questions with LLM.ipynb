{
 "cells": [
  {
   "cell_type": "markdown",
   "id": "fe12c203-e6a6-452c-a655-afb8a03a4ff5",
   "metadata": {},
   "source": [
    "# Creating technical explainer\n",
    "\n",
    "Tool that responds to technical questions, using both Open AI (Paid) and DeepSeek (Free) api's"
   ]
  },
  {
   "cell_type": "code",
   "execution_count": 20,
   "id": "c1070317-3ed9-4659-abe3-828943230e03",
   "metadata": {},
   "outputs": [],
   "source": [
    "# imports\n",
    "\n",
    "import os\n",
    "import requests\n",
    "from dotenv import load_dotenv\n",
    "\n",
    "from IPython.display import Markdown, display, update_display\n",
    "from openai import OpenAI\n",
    "import ollama"
   ]
  },
  {
   "cell_type": "code",
   "execution_count": 23,
   "id": "4a456906-915a-4bfd-bb9d-57e505c5093f",
   "metadata": {},
   "outputs": [],
   "source": [
    "# constants\n",
    "\n",
    "MODEL_GPT = \"gpt-5-nano\"\n",
    "MODEL_OPEN = \"deepseek-r1:8b\"\n",
    "\n",
    "# Constants\n",
    "OLLAMA_API = \"http://localhost:11434/api/chat\"\n",
    "HEADERS = {\"Content-Type\": \"application/json\"}"
   ]
  },
  {
   "cell_type": "code",
   "execution_count": 3,
   "id": "a8d7923c-5f28-4c30-8556-342d7c8497c1",
   "metadata": {},
   "outputs": [
    {
     "name": "stdout",
     "output_type": "stream",
     "text": [
      "API key found and looks good so far!\n"
     ]
    }
   ],
   "source": [
    "# Load environment variables\n",
    "\n",
    "load_dotenv(override=True)\n",
    "api_key = os.getenv('OPENAI_API_KEY')\n",
    "\n",
    "# Check the key\n",
    "\n",
    "if not api_key:\n",
    "    print(\"No API key was found - please troubleshoot to identify & fix!\")\n",
    "elif not api_key.startswith(\"sk-proj-\"):\n",
    "    print(\"An API key was found, but it doesn't start sk-proj-; please check you're using the right key\")\n",
    "elif api_key.strip() != api_key:\n",
    "    print(\"An API key was found, but it looks like it might have space or tab characters at the start or end - please remove them\")\n",
    "else:\n",
    "    print(\"API key found and looks good so far!\")\n"
   ]
  },
  {
   "cell_type": "code",
   "execution_count": 4,
   "id": "3f0d0137-52b0-47a8-81a8-11a90a010798",
   "metadata": {},
   "outputs": [],
   "source": [
    "# here is the question; type over this to ask something new\n",
    "\n",
    "question = \"\"\"\n",
    "Please explain what this code does and why:\n",
    "yield from {book.get(\"author\") for book in books if book.get(\"author\")}\n",
    "\"\"\""
   ]
  },
  {
   "cell_type": "code",
   "execution_count": 5,
   "id": "fc773c89-af8f-4918-8667-497fa111e87e",
   "metadata": {
    "tags": []
   },
   "outputs": [],
   "source": [
    "# Define our system prompt and user prompt\n",
    "\n",
    "system_prompt = \"You are a helpful technical tutor who answers questions about python code, software engineering, data science and LLMs\"\n",
    "user_prompt = \"Please give a detailed explanation to the following question: \" + question\n"
   ]
  },
  {
   "cell_type": "code",
   "execution_count": 7,
   "id": "fb53cc9b-ed62-44c4-b1a4-4a452411afd8",
   "metadata": {
    "tags": []
   },
   "outputs": [],
   "source": [
    "# Create the message structure\n",
    "def create_message():\n",
    "    return [\n",
    "        {\"role\": \"system\", \"content\": system_prompt},\n",
    "        {\"role\": \"user\", \"content\": user_prompt}\n",
    "    ]"
   ]
  },
  {
   "cell_type": "markdown",
   "id": "e6bacca7-59cc-4764-8700-82b8ccb01e77",
   "metadata": {},
   "source": [
    "## Open AI function\n"
   ]
  },
  {
   "cell_type": "code",
   "execution_count": 18,
   "id": "23ac50af-005c-4f43-9e89-6ccc2a44bf1d",
   "metadata": {
    "tags": []
   },
   "outputs": [],
   "source": [
    "# Create an openai object instance\n",
    "openai = OpenAI()\n",
    "\n",
    "# And now: call the OpenAI API to perform the task.\n",
    "def respond_with_openai():\n",
    "    \n",
    "    # create message format to the LLM and request response\n",
    "    response = openai.chat.completions.create(\n",
    "        model = MODEL_GPT,\n",
    "        messages = create_message(),\n",
    "        stream=True\n",
    "    )\n",
    "    return response\n"
   ]
  },
  {
   "cell_type": "code",
   "execution_count": 30,
   "id": "bdbbebca-aa8b-4ee3-9fcc-89cf5b3eb8b0",
   "metadata": {
    "tags": []
   },
   "outputs": [],
   "source": [
    "# A function to display this nicely in the Jupyter output, using markdown\n",
    "def display_response_openai():    \n",
    "    response = \"\"\n",
    "    display_handle = display(Markdown(\"\"), display_id=True)\n",
    "    for chunk in respond_with_openai():\n",
    "        response += chunk.choices[0].delta.content or ''\n",
    "        response = response.replace(\"```\",\"\").replace(\"markdown\", \"\")\n",
    "        update_display(Markdown(response), display_id=display_handle.display_id)\n",
    "    "
   ]
  },
  {
   "cell_type": "code",
   "execution_count": 21,
   "id": "60ce7000-a4a5-4cce-a261-e75ef45063b4",
   "metadata": {},
   "outputs": [
    {
     "data": {
      "text/markdown": [
       "Certainly! Let's dissect this code snippet step-by-step to understand what it does and why:\n",
       "\n",
       "python\n",
       "yield from {book.get(\"author\") for book in books if book.get(\"author\")}\n",
       "\n",
       "\n",
       "### 1. **Overall Structure**\n",
       "\n",
       "This line involves several key components:\n",
       "- A **set comprehension**: `{book.get(\"author\") for book in books if book.get(\"author\")}`\n",
       "- The `yield from` statement\n",
       "\n",
       "### 2. **Understanding the Set Comprehension**\n",
       "\n",
       "python\n",
       "{book.get(\"author\") for book in books if book.get(\"author\")}\n",
       "\n",
       "\n",
       "- This creates a **set** of authors from a collection called `books`.\n",
       "- `books` is assumed to be an iterable (like a list) containing **dictionaries** representing books.\n",
       "- For each `book` in `books`, it performs:\n",
       "  \n",
       "  python\n",
       "  if book.get(\"author\")\n",
       "  \n",
       "  \n",
       "  - This checks whether the `\"author\"` key exists and has a truthy value in the current `book` dictionary.\n",
       "  - If the author exists and is not `None` or empty, it gets added to the set.\n",
       "  \n",
       "- The **value** added to the set is obtained by:\n",
       "\n",
       "  python\n",
       "  book.get(\"author\")\n",
       "  \n",
       "  \n",
       "  - The `.get()` method retrieves the value for `\"author\"` with the safety of not raising a `KeyError` if the key is missing—returning `None` instead.\n",
       "  - Because of the `if` condition, only non-`None` (and truthy) author values are included.\n",
       "\n",
       "**Result**: this set will contain **unique authors** from the list of books, ignoring duplicates and any books without an author.\n",
       "\n",
       "---\n",
       "\n",
       "### 3. **Why a Set?**\n",
       "\n",
       "- Sets automatically eliminate duplicates, so this comprehension yields **a collection of unique authors**.\n",
       "- This is useful when you want to process or yield a list of distinct authors.\n",
       "\n",
       "---\n",
       "\n",
       "### 4. **The `yield from` Statement**\n",
       "\n",
       "python\n",
       "yield from ...\n",
       "\n",
       "\n",
       "- `yield from` is used in generator functions to **delegate** part of the generator’s operations to an **iterable**.\n",
       "- It takes an **iterable** (or, more generally, any iterator, including a set, which is iterable) and yields its items one by one.\n",
       "\n",
       "**In this case**, the set comprehension produces a set, which is iterable.\n",
       "\n",
       "### 5. **Putting it all together**\n",
       "\n",
       "- The code **generates (yields)** each author from the set of unique authors derived from the `books`.\n",
       "- Effectively, it yields **each author exactly once**, since the set ensures distinct values.\n",
       "\n",
       "### 6. **Why use `yield from` here?**\n",
       "\n",
       "- Instead of writing a loop explicitly:\n",
       "\n",
       "  python\n",
       "  for author in {book.get(\"author\") for book in books if book.get(\"author\")}:\n",
       "      yield author\n",
       "  \n",
       "\n",
       "  the `yield from` syntax provides a **more concise** way to yield all items from an iterable.\n",
       "\n",
       "---\n",
       "\n",
       "### **Summary**\n",
       "\n",
       "- The code creates a set of unique authors from a collection of `books`, ignoring entries without an author.\n",
       "- It then **yields each author** one by one using `yield from`, making this code suitable within a generator function.\n",
       "\n",
       "---\n",
       "\n",
       "### **Example in context**\n",
       "\n",
       "python\n",
       "def get_unique_authors(books):\n",
       "    yield from {book.get(\"author\") for book in books if book.get(\"author\")}\n",
       "\n",
       "books = [\n",
       "    {\"title\": \"Book 1\", \"author\": \"Author A\"},\n",
       "    {\"title\": \"Book 2\", \"author\": \"Author B\"},\n",
       "    {\"title\": \"Book 3\", \"author\": \"Author A\"},\n",
       "    {\"title\": \"Book 4\"}  # No author key\n",
       "]\n",
       "\n",
       "for author in get_unique_authors(books):\n",
       "    print(author)\n",
       "\n",
       "\n",
       "**Output:**\n",
       "\n",
       "\n",
       "Author A\n",
       "Author B\n",
       "\n",
       "\n",
       "In conclusion, the code efficiently yields **all unique, non-empty author names** from a list of books within a generator function."
      ],
      "text/plain": [
       "<IPython.core.display.Markdown object>"
      ]
     },
     "metadata": {},
     "output_type": "display_data"
    }
   ],
   "source": [
    "# Get gpt-4.1-nano to answer, with streaming\n",
    "display_response_openai()"
   ]
  },
  {
   "cell_type": "markdown",
   "id": "908ed94c-31fb-4a8f-8439-0278bbe09bb7",
   "metadata": {},
   "source": [
    "## DeepSeek Function"
   ]
  },
  {
   "cell_type": "code",
   "execution_count": 25,
   "id": "d9fd572e-5c5c-44c7-b326-616f8cc8f44c",
   "metadata": {
    "tags": []
   },
   "outputs": [
    {
     "name": "stdout",
     "output_type": "stream",
     "text": [
      "Model 'deepseek-r1:8b' found.\n"
     ]
    }
   ],
   "source": [
    "import subprocess\n",
    "\n",
    "# Check if the model is already downloaded\n",
    "try:\n",
    "    result = subprocess.run(['ollama', 'list'], capture_output=True, text=True, check=True)\n",
    "    if MODEL_OPEN in result.stdout:\n",
    "        print(f\"Model '{MODEL_OPEN}' found.\")\n",
    "    else:\n",
    "        print(f\"Model '{MODEL_OPEN}' not found. Downloading...\")\n",
    "        # Download the model\n",
    "        subprocess.run(['ollama', 'pull', MODEL_OPEN], check=True)\n",
    "        print(f\"Model '{MODEL_OPEN}' downloaded successfully.\")\n",
    "except subprocess.CalledProcessError as e:\n",
    "    print(f\"Error checking or downloading Ollama model: {e}\")\n",
    "    print(f\"Stderr: {e.stderr}\")\n",
    "except FileNotFoundError:\n",
    "    print(\"Ollama command not found. Please ensure Ollama is installed and in your system's PATH.\")\n"
   ]
  },
  {
   "cell_type": "code",
   "execution_count": 26,
   "id": "58c55b50-51de-41c9-927e-c4b7abccaa68",
   "metadata": {
    "tags": []
   },
   "outputs": [],
   "source": [
    "# Create a payload dictionary to pass to the model\n",
    "def create_payload(model):\n",
    "    return {\n",
    "        \"model\": model,\n",
    "        \"messages\": create_message(),\n",
    "        \"stream\": False\n",
    "    }"
   ]
  },
  {
   "cell_type": "code",
   "execution_count": 27,
   "id": "5934a213-d9a9-4086-86d9-3b4421d0067b",
   "metadata": {
    "tags": []
   },
   "outputs": [],
   "source": [
    "# Call the model\n",
    "def respond_with_ollama():\n",
    "    \n",
    "    # Create payload\n",
    "    payload = create_payload(MODEL_OPEN)\n",
    "    \n",
    "    # create message format to the LLM and request response\n",
    "    response = requests.post(\n",
    "        OLLAMA_API, \n",
    "        json=payload, \n",
    "        headers=HEADERS\n",
    "    )\n",
    "    return response.json()['message']['content']\n"
   ]
  },
  {
   "cell_type": "code",
   "execution_count": 31,
   "id": "36f26fe0-d9d9-4e51-a812-f05b0d49a9d3",
   "metadata": {
    "tags": []
   },
   "outputs": [],
   "source": [
    "# A function to display this nicely in the Jupyter output, using markdown\n",
    "def display_response_deepseek():\n",
    "    # Call the summary function that creates the message format and get a response from OpenAI\n",
    "    response = respond_with_ollama()\n",
    "    \n",
    "    # Fetch the final response, ignoring the model thinking\n",
    "    summary = response.split(\"</think>\")[-1]\n",
    "\n",
    "    # Convert response into markdown in jupyter notebook\n",
    "    display(Markdown(summary))\n"
   ]
  },
  {
   "cell_type": "code",
   "execution_count": 32,
   "id": "cfb90f82-e76e-4793-ad78-4a2c74549e2f",
   "metadata": {
    "tags": []
   },
   "outputs": [
    {
     "data": {
      "text/markdown": [
       "\n",
       "The provided line of code is:\n",
       "\n",
       "```python\n",
       "yield from {book.get(\"author\") for book in books if book.get(\"author\")}\n",
       "```\n",
       "\n",
       "This is an **enhanced syntax** introduced in Python 3.8 called a **set comprehension**, which creates a set (a collection of unique elements) using the values extracted from each `book` dictionary where the \"author\" key exists and has a truthy value.\n",
       "\n",
       "### Explanation:\n",
       "- **Set Comprehension**: `{expression for item in iterable if condition}`  \n",
       "  This is similar to list comprehensions but builds an unordered collection of unique items (a set). It iterates over each element (`book`) in `books` (which should be a list or sequence of dictionaries), checks the condition, and adds elements that meet it.\n",
       "\n",
       "- **`book.get(\"author\")`**:  \n",
       "  This retrieves the value associated with the key `\"author\"` from the dictionary `book`. Using `.get()` ensures no KeyError if the key doesn't exist—it returns `None` (or nothing if a default is provided). Here, it checks for existence implicitly because `if book.get(\"author\")` evaluates to `True` only if the value exists and is truthy. If `\"author\"` is missing or has a falsy value (`\"\"`, `0`, `False`, etc.), it skips that entry.\n",
       "\n",
       "- **Condition**:  \n",
       "  The condition `if book.get(\"author\")` filters out books where:\n",
       "  - The key \"author\" doesn't exist (returns `None`, which evaluates to `False`).\n",
       "  - Or the author's name is falsy (e.g., an empty string, `0`, or `False`). \n",
       "\n",
       "- **Generator Behavior**:  \n",
       "  Since it's used with `yield from`, this set becomes a generator that produces each unique author exactly once. However, note that building a set first means all authors are collected into memory before yielding.\n",
       "\n",
       "### Example:\n",
       "Given:\n",
       "\n",
       "```python\n",
       "books = [\n",
       "    {\"title\": \"Book1\", \"author\": \"Author A\"},\n",
       "    {\"title\": \"Book2\", \"author\": \"Author B\"},\n",
       "    {\"title\": \"Book3\", \"author\": \"\"},\n",
       "    {\"title\": \"Book4\", \"author\": None},\n",
       "]\n",
       "\n",
       "# The set comprehension creates a set: {'Author A', 'Author B'} (skips empty string and missing/None authors)\n",
       "unique_authors = {book.get(\"author\") for book in books if book.get(\"author\")}  # Set of unique, truthy authors\n",
       "\n",
       "yield from unique_authors\n",
       "```\n",
       "\n",
       "This generator will yield:\n",
       "- \"Author A\"\n",
       "- \"Author B\"\n",
       "\n",
       "### Important Notes:\n",
       "1. **Memory Consideration**:  \n",
       "   The set is built entirely first (all distinct authors), then the elements are yielded one by one.\n",
       "2. **Use Case**: This might be intended to avoid duplicates and skip falsy values, but it's not efficient for very large lists where memory is a concern.\n",
       "\n",
       "### Improved Version (if you want true uniqueness without building a set first):\n",
       "You can use `filter` + `.add()` in a generator function:\n",
       "\n",
       "```python\n",
       "for author in book.get(\"author\") or \"Anonymous\" :  # This syntax isn't valid; let me correct it.\n",
       "```\n",
       "\n",
       "But wait, the original code uses a condition on truthiness. Here's a corrected and clearer version:\n",
       "- **Corrected Code** (with set comprehension) builds all unique authors first.\n",
       "\n",
       "### Common Pitfalls:\n",
       "1. **Unnecessary Set Construction**:  \n",
       "   The `yield from` syntax is used with a set, so it will build the entire set in memory before yielding.\n",
       "2. **Falsies Filtered Out**:  \n",
       "   If an author's name is `\"0\"` or `\"False\"`, they are skipped because these evaluate to `False`. Use `.get(\"author\")` explicitly checks for existence; use `if book.get('author') is not None` if you want to include all authors regardless of falsy values.\n",
       "\n",
       "### Correction:\n",
       "The code likely has a syntax error (unmatched quotes). It should be:\n",
       "\n",
       "```python\n",
       "yield from {book.get(\"author\") for book in books if book.get(\"author\")}\n",
       "```\n",
       "\n",
       "But I'll explain the intended functionality as written. If you have more questions, feel free to ask!"
      ],
      "text/plain": [
       "<IPython.core.display.Markdown object>"
      ]
     },
     "metadata": {},
     "output_type": "display_data"
    }
   ],
   "source": [
    "# Call the function to respond to question and display in markdown format in the notebook\n",
    "display_response_deepseek()"
   ]
  },
  {
   "cell_type": "code",
   "execution_count": null,
   "id": "c1d10fe8-a00a-4a1e-915d-ee6eda2172e4",
   "metadata": {},
   "outputs": [],
   "source": []
  }
 ],
 "metadata": {
  "kernelspec": {
   "display_name": "Python 3 (ipykernel)",
   "language": "python",
   "name": "python3"
  },
  "language_info": {
   "codemirror_mode": {
    "name": "ipython",
    "version": 3
   },
   "file_extension": ".py",
   "mimetype": "text/x-python",
   "name": "python",
   "nbconvert_exporter": "python",
   "pygments_lexer": "ipython3",
   "version": "3.11.5"
  }
 },
 "nbformat": 4,
 "nbformat_minor": 5
}
