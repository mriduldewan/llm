{
 "cells": [
  {
   "cell_type": "code",
   "execution_count": 1,
   "id": "4e2a9393-7767-488e-a8bf-27c12dca35bd",
   "metadata": {
    "tags": []
   },
   "outputs": [],
   "source": [
    "# imports\n",
    "\n",
    "import os\n",
    "import requests\n",
    "import json\n",
    "import time\n",
    "import pandas as pd\n",
    "from datetime import datetime\n",
    "from dotenv import load_dotenv\n",
    "from IPython.display import Markdown, display\n",
    "from openai import OpenAI"
   ]
  },
  {
   "cell_type": "markdown",
   "id": "6900b2a8-6384-4316-8aaa-5e519fca4254",
   "metadata": {},
   "source": [
    "## Connecting to OpenAI (or Ollama in case of open source)\n",
    "\n",
    "The next cell is where we load in the environment variables in your `.env` file and connect to OpenAI.  "
   ]
  },
  {
   "cell_type": "code",
   "execution_count": 2,
   "id": "7b87cadb-d513-4303-baee-a37b6f938e4d",
   "metadata": {
    "tags": []
   },
   "outputs": [
    {
     "name": "stdout",
     "output_type": "stream",
     "text": [
      "API key found and looks good so far!\n"
     ]
    }
   ],
   "source": [
    "# Load environment variables in a file called .env\n",
    "\n",
    "load_dotenv(override=True)\n",
    "api_key = os.getenv('OPENAI_API_KEY')\n",
    "\n",
    "# Specify OpenAI model\n",
    "# MODEL = \"gpt-4.1-nano-2025-04-14\"\n",
    "MODEL = \"gpt-5-nano\"\n",
    "\n",
    "# Check the key\n",
    "\n",
    "if not api_key:\n",
    "    print(\"No API key was found - please troubleshoot to identify & fix!\")\n",
    "elif not api_key.startswith(\"sk-proj-\"):\n",
    "    print(\"An API key was found, but it doesn't start sk-proj-; please check you're using the right key\")\n",
    "elif api_key.strip() != api_key:\n",
    "    print(\"An API key was found, but it looks like it might have space or tab characters at the start or end - please remove them\")\n",
    "else:\n",
    "    print(\"API key found and looks good so far!\")\n"
   ]
  },
  {
   "cell_type": "markdown",
   "id": "6a478a0c-2c53-48ff-869c-4d08199931e1",
   "metadata": {},
   "source": [
    "## Create system and user prompts to input to the model\n",
    "Models like GPT4.1 have been trained to receive instructions in a particular way. They expect to receive:\n",
    "\n",
    "**A system prompt** that tells them what task they are performing and what tone they should use\n",
    "\n",
    "**A user prompt** -- the conversation starter that they should reply to"
   ]
  },
  {
   "cell_type": "code",
   "execution_count": 3,
   "id": "abdb8417-c5dc-44bc-9bee-2e059d162699",
   "metadata": {
    "tags": []
   },
   "outputs": [],
   "source": [
    "# Define our system prompt\n",
    "\n",
    "system_prompt = \"\"\"You are an expert topic classifier for student feedback from a vocational education and training institution.\n",
    "Your task is to analyze student verbatims and assign one or more topics from a predefined list.\\\n",
    "You must adhere to the following rules:\n",
    "1.  Match the verbatim to the most relevant topics from the provided topic list.\n",
    "2.  If the verbatim is not relevant to any topic on the list, return 'No Match'.\n",
    "3.  You can assign more than one topic if the verbatim covers multiple subjects.\n",
    "4.  Your output must be a single JSON object.\n",
    "5.  The JSON object must have two keys: 'topics' and 'verbatim_text'.\n",
    "6.  The value for 'topics' should be a list of strings. Each string must be a topic from the provided list or the string 'No Match'.\n",
    "7.  The value for 'verbatim_text' should be the original verbatim you are analyzing.\n",
    "\n",
    "Below is a list of predefined topics and five examples of how to classify a verbatim.\n",
    "\n",
    "**Topic List:**\n",
    "- Enrolment Process\n",
    "- Student Support Services\n",
    "- Course Content and Relevance\n",
    "- Trainer Quality and Engagement\n",
    "- Facilities and Campus Environment\n",
    "- Timetable and Scheduling\n",
    "- Online Learning Platform\n",
    "- Assessment and Feedback\n",
    "- Career and Employment Services\n",
    "- Technology and Equipment\n",
    "- Communication and Information\n",
    "- Student Welfare and Wellbeing\n",
    "- Course Fees and Payments\n",
    "- Recognition of Prior Learning (RPL)\n",
    "- Work Placement\n",
    "- Graduation and Completion\"\"\"\n"
   ]
  },
  {
   "cell_type": "code",
   "execution_count": 4,
   "id": "f0275b1b-7cfe-4f9d-abfa-7650d378da0c",
   "metadata": {
    "tags": []
   },
   "outputs": [],
   "source": [
    "# A function that writes a User Prompt that asks for summaries of websites:\n",
    "\n",
    "def user_prompt_for(verbatim):\n",
    "    user_prompt = f\"\"\"\n",
    "    You are looking at a verbatim from a student. Based on the list of topics provided, below are five examples of how to classify a verbatim.\n",
    "\n",
    "    **Examples for Few-Shot Classification:**\n",
    "\n",
    "    1. **Verbatim:** \"I'm having trouble with the login for the online portal, and the Wi-Fi on campus is really slow.\"\n",
    "       **Topics:** [\"Online Learning Platform\", \"Technology and Equipment\"]\n",
    "\n",
    "    2. **Verbatim:** \"John is great! He explains everything clearly and is always available to help after class.\"\n",
    "       **Topics:** [\"Trainer Quality and Engagement\"]\n",
    "\n",
    "    3. **Verbatim:** \"I asked about my results from last semester, but nobody has gotten back to me. I've been waiting for weeks.\"\n",
    "       **Topics:** [\"Communication and Information\", \"Assessment and Feedback\"]\n",
    "\n",
    "    4. **Verbatim:** \"The campus cafeteria has really limited options, and the library hours are not great for students who work.\"\n",
    "       **Topics:** [\"Facilities and Campus Environment\"]\n",
    "\n",
    "    5. **Verbatim:** \"I've been working as a mechanic for 10 years, and I want to see if I can get credit for my experience towards this course.\"\n",
    "       **Topics:** [\"Recognition of Prior Learning (RPL)\"]\n",
    "\n",
    "    **New Verbatim to Classify:**\n",
    "    {verbatim}\n",
    "    \"\"\"\n",
    "    \n",
    "    return user_prompt"
   ]
  },
  {
   "cell_type": "markdown",
   "id": "ea211b5f-28e1-4a86-8e52-c0b7677cadcc",
   "metadata": {},
   "source": [
    "**Create Message for the model** : The API from OpenAI expects to receive messages in a particular structure.\n",
    "\n",
    "```python\n",
    "[\n",
    "    {\"role\": \"system\", \"content\": \"system message goes here\"},\n",
    "    {\"role\": \"user\", \"content\": \"user message goes here\"}\n",
    "]\n",
    "```"
   ]
  },
  {
   "cell_type": "code",
   "execution_count": 5,
   "id": "0134dfa4-8299-48b5-b444-f2a8c3403c88",
   "metadata": {
    "tags": []
   },
   "outputs": [],
   "source": [
    "# Create the message structure\n",
    "def messages_for(verbatim):\n",
    "    return [\n",
    "        {\"role\": \"system\", \"content\": system_prompt},\n",
    "        {\"role\": \"user\", \"content\": user_prompt_for(verbatim)}\n",
    "    ]"
   ]
  },
  {
   "cell_type": "markdown",
   "id": "16f49d46-bf55-4c3e-928f-68fc0bf715b0",
   "metadata": {},
   "source": [
    "## Bring it together"
   ]
  },
  {
   "cell_type": "code",
   "execution_count": 6,
   "id": "905b9919-aba7-45b5-ae65-81b3d1d78e34",
   "metadata": {
    "tags": []
   },
   "outputs": [],
   "source": [
    "# Create an openai object instance\n",
    "openai = OpenAI()\n",
    "\n",
    "# And now: call the OpenAI API to perform the task.\n",
    "def return_topics(verbatim):\n",
    "    # create message format to the LLM and request response\n",
    "    response = openai.chat.completions.create(\n",
    "        model = MODEL,\n",
    "        messages = messages_for(verbatim)\n",
    "    )\n",
    "    return response.choices[0].message.content"
   ]
  },
  {
   "cell_type": "code",
   "execution_count": 7,
   "id": "3d926d59-450e-4609-92ba-2d6f244f1342",
   "metadata": {
    "tags": []
   },
   "outputs": [],
   "source": [
    "# A function to display this nicely in the Jupyter output, using markdown\n",
    "def display_summary(verbatim):\n",
    "    # Call the summary function that creates the message format and get a response from OpenAI\n",
    "    topics = return_topics(verbatim)\n",
    "\n",
    "    # Convert response into markdown in jupyter notebook\n",
    "    display(Markdown(topics))"
   ]
  },
  {
   "cell_type": "code",
   "execution_count": 8,
   "id": "4a4255f8-97d4-4e40-9bd8-c4e0f278a05e",
   "metadata": {
    "tags": []
   },
   "outputs": [
    {
     "name": "stdout",
     "output_type": "stream",
     "text": [
      "Verbatim: The course material is outdated; we're still learning about software from five years ago.\n",
      "Topic(s) Identified: Course Content and Relevance\n"
     ]
    }
   ],
   "source": [
    "# Let's try one out\n",
    "test_verbatim = \"The course material is outdated; we're still learning about software from five years ago.\",\n",
    "\n",
    "# Return json\n",
    "topics = return_topics(test_verbatim)\n",
    "\n",
    "# Print result\n",
    "parsed_output = json.loads(topics)\n",
    "print(f\"Verbatim: {parsed_output['verbatim_text']}\")\n",
    "print(f\"Topic(s) Identified: {(', ').join(parsed_output['topics'])}\")"
   ]
  },
  {
   "cell_type": "markdown",
   "id": "2da251f1-40fc-42f1-9bd1-36af4ebb7aad",
   "metadata": {},
   "source": [
    "## BATCH PROCESSING VERBATIMS"
   ]
  },
  {
   "cell_type": "code",
   "execution_count": 9,
   "id": "bddc51e7-5a92-4256-939b-f7e72dd004a0",
   "metadata": {
    "tags": []
   },
   "outputs": [],
   "source": [
    "# Create a simple timestamp and create filenames for batch input and output\n",
    "now = datetime.now()\n",
    "timestamp = now.strftime(\"%Y%m%d_%H%M%S\") # e.g., '20250728_164742'\n",
    "input_filename = f\"batch_in_{timestamp}.jsonl\"\n",
    "output_filename = f\"batch_out_{timestamp}.json\""
   ]
  },
  {
   "cell_type": "code",
   "execution_count": 10,
   "id": "15f17812-ee64-42b7-912a-43e0b9a08c9e",
   "metadata": {},
   "outputs": [],
   "source": [
    "# 1. Create the JSONL file for the batch\n",
    "\n",
    "def create_batch_input_input_json(verbatim_list):\n",
    "    # Define a folder to save the input files\n",
    "    input_folder = \"input/topic_model_batch_inputs\"\n",
    "    os.makedirs(input_folder, exist_ok=True)\n",
    "    input_json_path = os.path.join(input_folder, input_filename)\n",
    "\n",
    "    with open(input_json_path, \"w\") as f:\n",
    "        for i, verbatim in enumerate(verbatim_list):\n",
    "            # Create the combined prompt for each verbatim\n",
    "            user_prompt = user_prompt_for(verbatim)\n",
    "\n",
    "            # Create the message structure for the batch API\n",
    "            request_body = {\n",
    "                \"model\": \"gpt-4.1-nano-2025-04-14\",\n",
    "                \"messages\": [\n",
    "                    {\"role\": \"system\", \"content\": system_prompt},\n",
    "                    {\"role\": \"user\", \"content\": user_prompt}\n",
    "                ],\n",
    "                \"response_format\": {\"type\": \"json_object\"}\n",
    "            }\n",
    "\n",
    "            # Create the full JSON object for the batch file line\n",
    "            batch_request = {\n",
    "                \"custom_id\": f\"verbatim_{i+1}\",\n",
    "                \"method\": \"POST\",\n",
    "                \"url\": \"/v1/chat/completions\",\n",
    "                \"body\": request_body\n",
    "            }\n",
    "\n",
    "            # Write the JSON object to the file, followed by a newline\n",
    "            f.write(json.dumps(batch_request) + '\\n')\n",
    "\n",
    "    print(f\"Batch input file '{input_json_path}' created successfully.\")\n",
    "    \n",
    "    return input_json_path\n"
   ]
  },
  {
   "cell_type": "code",
   "execution_count": 11,
   "id": "748c5fe3-9d31-4cb2-b239-971a09a7a0ea",
   "metadata": {
    "tags": []
   },
   "outputs": [],
   "source": [
    "# 2. Upload the file to OpenAI\n",
    "def upload_to_openai(batch_file_path):\n",
    "    try:\n",
    "        batch_input_file = openai.files.create(\n",
    "            file=open(batch_file_path, \"rb\"),\n",
    "            purpose=\"batch\"\n",
    "        )\n",
    "        input_file_id = batch_input_file.id\n",
    "        print(f\"File uploaded with ID: {input_file_id}\")\n",
    "    except Exception as e:\n",
    "        print(f\"An error occurred during file upload: {e}\")\n",
    "        exit()\n",
    "    \n",
    "    return input_file_id"
   ]
  },
  {
   "cell_type": "code",
   "execution_count": 12,
   "id": "b3d145d5-7550-4b46-8e10-ea6e9c43b920",
   "metadata": {
    "tags": []
   },
   "outputs": [],
   "source": [
    "# 3. Create a batch job\n",
    "def create_batch_job(input_file_id):\n",
    "    try:\n",
    "        batch_job = openai.batches.create(\n",
    "            input_file_id=input_file_id,\n",
    "            endpoint=\"/v1/chat/completions\",\n",
    "            completion_window=\"24h\" # Currently the only supported value\n",
    "        )\n",
    "        batch_job_id = batch_job.id\n",
    "        print(f\"Batch job created with ID: {batch_job_id}\")\n",
    "    except Exception as e:\n",
    "        print(f\"An error occurred during batch job creation: {e}\")\n",
    "        exit()\n",
    "\n",
    "    return batch_job_id\n"
   ]
  },
  {
   "cell_type": "code",
   "execution_count": 13,
   "id": "71c7e5b0-7fc1-410a-977b-7f0bf002d300",
   "metadata": {
    "tags": []
   },
   "outputs": [],
   "source": [
    "# 4. Poll for results (This is an async process)\n",
    "\n",
    "def poll_for_results(batch_job_id):\n",
    "    print(f\"Waiting for batch job {batch_job_id} to complete...\\n\")\n",
    "    i=1\n",
    "    while True:\n",
    "        try:\n",
    "            retrieved_job = openai.batches.retrieve(batch_job_id)\n",
    "            status = retrieved_job.status\n",
    "            print(f\"Attempt {i} : Current status: {status}\")\n",
    "\n",
    "            if status in [\"completed\", \"failed\", \"cancelled\", \"expired\"]:\n",
    "                break\n",
    "\n",
    "            # Wait for a reasonable amount of time before polling again\n",
    "            time.sleep(30)\n",
    "            i+=1\n",
    "        except Exception as e:\n",
    "            print(f\"An error occurred while retrieving job status: {e}\")\n",
    "            break\n",
    "            \n",
    "    return retrieved_job, status"
   ]
  },
  {
   "cell_type": "code",
   "execution_count": 15,
   "id": "f98313f1-6a07-4729-9035-f26da7702638",
   "metadata": {
    "tags": []
   },
   "outputs": [],
   "source": [
    "# 5. Download and display results as a DataFrame\n",
    "\n",
    "def download_batch_output(retrieved_job, status):\n",
    "    if status == \"completed\":\n",
    "        output_file_id = retrieved_job.output_file_id\n",
    "        if output_file_id:\n",
    "            # Download the file content\n",
    "            output_content_bytes = openai.files.content(output_file_id)\n",
    "            output_content_string = output_content_bytes.text\n",
    "\n",
    "            # Initialize a list to hold our parsed data\n",
    "            parsed_results = []\n",
    "\n",
    "            # Process each line of the JSONL output\n",
    "            for line in output_content_string.strip().split('\\n'):\n",
    "                try:\n",
    "                    # Load the full JSON object for the line\n",
    "                    batch_result = json.loads(line)\n",
    "\n",
    "                    # Extract the custom_id to link it back to the original verbatim\n",
    "                    custom_id = batch_result.get('custom_id')\n",
    "\n",
    "                    # Get the verbatim and the model's response\n",
    "                    response_content = batch_result['response']['body']['choices'][0]['message']['content']\n",
    "\n",
    "                    # The response content is a JSON string, so we need to parse it again\n",
    "                    classification_data = json.loads(response_content)\n",
    "\n",
    "                    # Append the parsed data to our list\n",
    "                    parsed_results.append({\n",
    "                        'id': custom_id,\n",
    "                        'verbatim': classification_data['verbatim_text'],\n",
    "                        'topics': classification_data['topics']\n",
    "                    })\n",
    "\n",
    "                except (json.JSONDecodeError, KeyError) as e:\n",
    "                    print(f\"Error parsing line: {line}. Error: {e}\")\n",
    "                    continue\n",
    "\n",
    "\n",
    "            # Define a folder to save the output files\n",
    "            output_folder = \"output/topic_model_batch_outputs\"\n",
    "            os.makedirs(output_folder, exist_ok=True)\n",
    "            output_json_path = os.path.join(output_folder, output_filename)\n",
    "\n",
    "            with open(output_json_path, 'w') as f:\n",
    "                # Use json.dump to write the list of dictionaries to the file\n",
    "                json.dump(parsed_results, f, indent=4)\n",
    "\n",
    "            print(f\"\\nBatch results successfully saved to '{output_json_path}'.\\n\")\n",
    "            # -------------------------------------------------------------------------\n",
    "\n",
    "\n",
    "            # Create the pandas DataFrame from the list of dictionaries\n",
    "            df = pd.DataFrame(parsed_results)\n",
    "\n",
    "            # Let's clean up the 'topics' column for better display\n",
    "            df['topics'] = df['topics'].apply(lambda x: ', '.join(x) if isinstance(x, list) else x)\n",
    "\n",
    "            # Display the DataFrame\n",
    "            print(\"\\n--- Final Results DataFrame ---\")\n",
    "            display(df) # Using display to render the DataFrame nicely in Jupyter/IPython\n",
    "\n",
    "        else:\n",
    "            print(\"Batch job completed but no output file was found.\")\n",
    "    else:\n",
    "        print(f\"Batch job failed or was not completed. Final status: {status}\")\n",
    "        if retrieved_job.error_file_id:\n",
    "            error_content = openai.files.content(retrieved_job.error_file_id).text\n",
    "            print(\"\\n--- Error Log ---\")\n",
    "            print(error_content)\n",
    "    \n",
    "    return df"
   ]
  },
  {
   "cell_type": "markdown",
   "id": "4e51d699-26a4-4c1f-9ce4-ff750ccc5b35",
   "metadata": {},
   "source": [
    "## Create test set and call the functions"
   ]
  },
  {
   "cell_type": "code",
   "execution_count": 16,
   "id": "681601fe-e178-491f-bcb4-c0d62e19db5c",
   "metadata": {
    "tags": []
   },
   "outputs": [],
   "source": [
    "# Sample list of verbatims\n",
    "verbatims_to_classify = [\n",
    "    \"My classes are all over the place. I have to come to campus three times a week for just one or two hours each time.\",\n",
    "    \"The course material is outdated; we're still learning about software from five years ago.\",\n",
    "    \"I tried to get help from the student welfare office, but they were closed.\",\n",
    "    \"My final assignment feedback was very vague, and I don't know what to improve on.\",\n",
    "    \"I'm not sure if this is the right career path for me after finishing this course.\",\n",
    "    \"The computer labs have really old computers, and some don't even work properly.\",\n",
    "    \"The process to apply for this course was so confusing and the website kept crashing.\",\n",
    "    \"My work placement was very unorganized and I felt like I didn't learn anything.\",\n",
    "    \"The person who was meant to help me with my enrolment never got back to me.\",\n",
    "    \"The cost of the textbooks is way too high, and I'm not sure if I can afford them.\",\n",
    "    \"This feedback is not about any of the topics.\",\n",
    "]"
   ]
  },
  {
   "cell_type": "code",
   "execution_count": 17,
   "id": "2c5cf865-2f18-4f7f-a79f-78960608fdf4",
   "metadata": {
    "tags": []
   },
   "outputs": [
    {
     "name": "stdout",
     "output_type": "stream",
     "text": [
      "Batch input file 'input/topic_model_batch_inputs/batch_in_20250808_095158.jsonl' created successfully.\n",
      "File uploaded with ID: file-NMJ6LCa2og86zN2MjjGEHZ\n",
      "Batch job created with ID: batch_68953c43af608190bed5c16c2d64ff42\n",
      "Waiting for batch job batch_68953c43af608190bed5c16c2d64ff42 to complete...\n",
      "\n",
      "Attempt 1 : Current status: validating\n",
      "Attempt 2 : Current status: in_progress\n",
      "Attempt 3 : Current status: in_progress\n",
      "Attempt 4 : Current status: completed\n",
      "\n",
      "Batch results successfully saved to 'output/topic_model_batch_outputs/batch_out_20250808_095158.json'.\n",
      "\n",
      "\n",
      "--- Final Results DataFrame ---\n"
     ]
    },
    {
     "data": {
      "text/html": [
       "<div>\n",
       "<style scoped>\n",
       "    .dataframe tbody tr th:only-of-type {\n",
       "        vertical-align: middle;\n",
       "    }\n",
       "\n",
       "    .dataframe tbody tr th {\n",
       "        vertical-align: top;\n",
       "    }\n",
       "\n",
       "    .dataframe thead th {\n",
       "        text-align: right;\n",
       "    }\n",
       "</style>\n",
       "<table border=\"1\" class=\"dataframe\">\n",
       "  <thead>\n",
       "    <tr style=\"text-align: right;\">\n",
       "      <th></th>\n",
       "      <th>id</th>\n",
       "      <th>verbatim</th>\n",
       "      <th>topics</th>\n",
       "    </tr>\n",
       "  </thead>\n",
       "  <tbody>\n",
       "    <tr>\n",
       "      <th>0</th>\n",
       "      <td>verbatim_1</td>\n",
       "      <td>My classes are all over the place. I have to c...</td>\n",
       "      <td>Timetable and Scheduling</td>\n",
       "    </tr>\n",
       "    <tr>\n",
       "      <th>1</th>\n",
       "      <td>verbatim_2</td>\n",
       "      <td>The course material is outdated; we're still l...</td>\n",
       "      <td>Course Content and Relevance</td>\n",
       "    </tr>\n",
       "    <tr>\n",
       "      <th>2</th>\n",
       "      <td>verbatim_3</td>\n",
       "      <td>I tried to get help from the student welfare o...</td>\n",
       "      <td>Student Support Services</td>\n",
       "    </tr>\n",
       "    <tr>\n",
       "      <th>3</th>\n",
       "      <td>verbatim_4</td>\n",
       "      <td>My final assignment feedback was very vague, a...</td>\n",
       "      <td>Assessment and Feedback</td>\n",
       "    </tr>\n",
       "    <tr>\n",
       "      <th>4</th>\n",
       "      <td>verbatim_5</td>\n",
       "      <td>I'm not sure if this is the right career path ...</td>\n",
       "      <td>Career and Employment Services</td>\n",
       "    </tr>\n",
       "    <tr>\n",
       "      <th>5</th>\n",
       "      <td>verbatim_6</td>\n",
       "      <td>The computer labs have really old computers, a...</td>\n",
       "      <td>Facilities and Campus Environment</td>\n",
       "    </tr>\n",
       "    <tr>\n",
       "      <th>6</th>\n",
       "      <td>verbatim_7</td>\n",
       "      <td>The process to apply for this course was so co...</td>\n",
       "      <td>Enrolment Process</td>\n",
       "    </tr>\n",
       "    <tr>\n",
       "      <th>7</th>\n",
       "      <td>verbatim_8</td>\n",
       "      <td>My work placement was very unorganized and I f...</td>\n",
       "      <td>Work Placement</td>\n",
       "    </tr>\n",
       "    <tr>\n",
       "      <th>8</th>\n",
       "      <td>verbatim_9</td>\n",
       "      <td>The person who was meant to help me with my en...</td>\n",
       "      <td>Enrolment Process</td>\n",
       "    </tr>\n",
       "    <tr>\n",
       "      <th>9</th>\n",
       "      <td>verbatim_10</td>\n",
       "      <td>The cost of the textbooks is way too high, and...</td>\n",
       "      <td>Course Fees and Payments</td>\n",
       "    </tr>\n",
       "    <tr>\n",
       "      <th>10</th>\n",
       "      <td>verbatim_11</td>\n",
       "      <td>This feedback is not about any of the topics.</td>\n",
       "      <td>No Match</td>\n",
       "    </tr>\n",
       "  </tbody>\n",
       "</table>\n",
       "</div>"
      ],
      "text/plain": [
       "             id                                           verbatim  \\\n",
       "0    verbatim_1  My classes are all over the place. I have to c...   \n",
       "1    verbatim_2  The course material is outdated; we're still l...   \n",
       "2    verbatim_3  I tried to get help from the student welfare o...   \n",
       "3    verbatim_4  My final assignment feedback was very vague, a...   \n",
       "4    verbatim_5  I'm not sure if this is the right career path ...   \n",
       "5    verbatim_6  The computer labs have really old computers, a...   \n",
       "6    verbatim_7  The process to apply for this course was so co...   \n",
       "7    verbatim_8  My work placement was very unorganized and I f...   \n",
       "8    verbatim_9  The person who was meant to help me with my en...   \n",
       "9   verbatim_10  The cost of the textbooks is way too high, and...   \n",
       "10  verbatim_11      This feedback is not about any of the topics.   \n",
       "\n",
       "                               topics  \n",
       "0            Timetable and Scheduling  \n",
       "1        Course Content and Relevance  \n",
       "2            Student Support Services  \n",
       "3             Assessment and Feedback  \n",
       "4      Career and Employment Services  \n",
       "5   Facilities and Campus Environment  \n",
       "6                   Enrolment Process  \n",
       "7                      Work Placement  \n",
       "8                   Enrolment Process  \n",
       "9            Course Fees and Payments  \n",
       "10                           No Match  "
      ]
     },
     "metadata": {},
     "output_type": "display_data"
    }
   ],
   "source": [
    "# Calling all functions in sequence for batch processing:\n",
    "\n",
    "# Step 1: Create input batch json\n",
    "input_batch_json_filepath = create_batch_input_input_json(verbatims_to_classify)\n",
    "\n",
    "# Step 2: Upload batch to openai\n",
    "input_file_id = upload_to_openai(input_batch_json_filepath)\n",
    "\n",
    "# Step 3: Create batch job\n",
    "batch_job_id = create_batch_job(input_file_id)\n",
    "\n",
    "# Step 4: Poll for results (async)\n",
    "retrieved_job, status = poll_for_results(batch_job_id)\n",
    "\n",
    "# Step 5: Download batch output\n",
    "result_df = download_batch_output(retrieved_job, status)"
   ]
  },
  {
   "cell_type": "code",
   "execution_count": null,
   "id": "d1012dc8-5b7a-4d6c-8644-ee988747c068",
   "metadata": {},
   "outputs": [],
   "source": []
  }
 ],
 "metadata": {
  "kernelspec": {
   "display_name": "Python 3 (ipykernel)",
   "language": "python",
   "name": "python3"
  },
  "language_info": {
   "codemirror_mode": {
    "name": "ipython",
    "version": 3
   },
   "file_extension": ".py",
   "mimetype": "text/x-python",
   "name": "python",
   "nbconvert_exporter": "python",
   "pygments_lexer": "ipython3",
   "version": "3.11.5"
  }
 },
 "nbformat": 4,
 "nbformat_minor": 5
}
