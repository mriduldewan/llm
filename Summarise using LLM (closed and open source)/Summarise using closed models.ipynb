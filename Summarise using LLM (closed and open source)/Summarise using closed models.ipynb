{
 "cells": [
  {
   "cell_type": "code",
   "execution_count": 10,
   "id": "4e2a9393-7767-488e-a8bf-27c12dca35bd",
   "metadata": {
    "tags": []
   },
   "outputs": [],
   "source": [
    "# imports\n",
    "\n",
    "import os\n",
    "import requests\n",
    "from dotenv import load_dotenv\n",
    "from bs4 import BeautifulSoup\n",
    "from IPython.display import Markdown, display\n",
    "from openai import OpenAI"
   ]
  },
  {
   "cell_type": "markdown",
   "id": "6900b2a8-6384-4316-8aaa-5e519fca4254",
   "metadata": {},
   "source": [
    "## Connecting to OpenAI (or Ollama in case of open source)\n",
    "\n",
    "The next cell is where we load in the environment variables in your `.env` file and connect to OpenAI.  "
   ]
  },
  {
   "cell_type": "code",
   "execution_count": 11,
   "id": "7b87cadb-d513-4303-baee-a37b6f938e4d",
   "metadata": {
    "tags": []
   },
   "outputs": [
    {
     "name": "stdout",
     "output_type": "stream",
     "text": [
      "API key found and looks good so far!\n"
     ]
    }
   ],
   "source": [
    "# Load environment variables in a file called .env\n",
    "\n",
    "load_dotenv(override=True)\n",
    "api_key = os.getenv('OPENAI_API_KEY')\n",
    "\n",
    "# Check the key\n",
    "\n",
    "if not api_key:\n",
    "    print(\"No API key was found - please troubleshoot to identify & fix!\")\n",
    "elif not api_key.startswith(\"sk-proj-\"):\n",
    "    print(\"An API key was found, but it doesn't start sk-proj-; please check you're using the right key\")\n",
    "elif api_key.strip() != api_key:\n",
    "    print(\"An API key was found, but it looks like it might have space or tab characters at the start or end - please remove them\")\n",
    "else:\n",
    "    print(\"API key found and looks good so far!\")\n"
   ]
  },
  {
   "cell_type": "markdown",
   "id": "2aa190e5-cb31-456a-96cc-db109919cd78",
   "metadata": {},
   "source": [
    "## Read website and summarise"
   ]
  },
  {
   "cell_type": "code",
   "execution_count": 12,
   "id": "c5e793b2-6775-426a-a139-4848291d0463",
   "metadata": {
    "tags": []
   },
   "outputs": [],
   "source": [
    "# A class to represent a Webpage\n",
    "\n",
    "# Some websites need you to use proper headers when fetching them:\n",
    "headers = {\n",
    " \"User-Agent\": \"Mozilla/5.0 (Windows NT 10.0; Win64; x64) AppleWebKit/537.36 (KHTML, like Gecko) Chrome/117.0.0.0 Safari/537.36\"\n",
    "}\n",
    "\n",
    "class Website:\n",
    "\n",
    "    def __init__(self, url):\n",
    "        \"\"\"\n",
    "        Create this Website object from the given url using the BeautifulSoup library\n",
    "        \"\"\"\n",
    "        self.url = url\n",
    "        response = requests.get(url, headers=headers)\n",
    "        soup = BeautifulSoup(response.content, 'html.parser')\n",
    "        self.title = soup.title.string if soup.title else \"No title found\"\n",
    "        for irrelevant in soup.body([\"script\", \"style\", \"img\", \"input\"]):\n",
    "            irrelevant.decompose()\n",
    "        self.text = soup.body.get_text(separator=\"\\n\", strip=True)"
   ]
  },
  {
   "cell_type": "markdown",
   "id": "6a478a0c-2c53-48ff-869c-4d08199931e1",
   "metadata": {},
   "source": [
    "## Create system and user prompts to input to the model\n",
    "Models like GPT4o have been trained to receive instructions in a particular way. They expect to receive:\n",
    "\n",
    "**A system prompt** that tells them what task they are performing and what tone they should use\n",
    "\n",
    "**A user prompt** -- the conversation starter that they should reply to"
   ]
  },
  {
   "cell_type": "code",
   "execution_count": 13,
   "id": "abdb8417-c5dc-44bc-9bee-2e059d162699",
   "metadata": {
    "tags": []
   },
   "outputs": [],
   "source": [
    "# Define our system prompt\n",
    "\n",
    "system_prompt = \"You are an assistant that analyzes the contents of a website \\\n",
    "and provides a short summary, ignoring text that might be navigation related. \\\n",
    "Respond in markdown.\""
   ]
  },
  {
   "cell_type": "code",
   "execution_count": 14,
   "id": "f0275b1b-7cfe-4f9d-abfa-7650d378da0c",
   "metadata": {
    "tags": []
   },
   "outputs": [],
   "source": [
    "# A function that writes a User Prompt that asks for summaries of websites:\n",
    "\n",
    "def user_prompt_for(website):\n",
    "    user_prompt = f\"You are looking at a website titled {website.title}\"\n",
    "    user_prompt += \"\\nThe contents of this website is as follows; \\\n",
    "please provide a short summary of this website in markdown. \\\n",
    "If it includes news or announcements, then summarize these too.\\n\\n\"\n",
    "    user_prompt += website.text\n",
    "    return user_prompt"
   ]
  },
  {
   "cell_type": "markdown",
   "id": "ea211b5f-28e1-4a86-8e52-c0b7677cadcc",
   "metadata": {},
   "source": [
    "**Create Message for the model** : The API from OpenAI expects to receive messages in a particular structure.\n",
    "\n",
    "```python\n",
    "[\n",
    "    {\"role\": \"system\", \"content\": \"system message goes here\"},\n",
    "    {\"role\": \"user\", \"content\": \"user message goes here\"}\n",
    "]\n",
    "```"
   ]
  },
  {
   "cell_type": "code",
   "execution_count": 15,
   "id": "0134dfa4-8299-48b5-b444-f2a8c3403c88",
   "metadata": {
    "tags": []
   },
   "outputs": [],
   "source": [
    "# Create the message structure\n",
    "def messages_for(website):\n",
    "    return [\n",
    "        {\"role\": \"system\", \"content\": system_prompt},\n",
    "        {\"role\": \"user\", \"content\": user_prompt_for(website)}\n",
    "    ]"
   ]
  },
  {
   "cell_type": "markdown",
   "id": "16f49d46-bf55-4c3e-928f-68fc0bf715b0",
   "metadata": {},
   "source": [
    "## Bring it together"
   ]
  },
  {
   "cell_type": "code",
   "execution_count": 18,
   "id": "905b9919-aba7-45b5-ae65-81b3d1d78e34",
   "metadata": {
    "tags": []
   },
   "outputs": [],
   "source": [
    "# Create an openai object instance\n",
    "openai = OpenAI()\n",
    "\n",
    "# And now: call the OpenAI API to perform the task.\n",
    "def summarise(url):\n",
    "    # Convert the url to website class and extract data using beautifulsoup library\n",
    "    website = Website(url)\n",
    "    \n",
    "    # create message format to the LLM and request response\n",
    "    response = openai.chat.completions.create(\n",
    "        model = \"gpt-4.1-nano-2025-04-14\",\n",
    "        messages = messages_for(website)\n",
    "    )\n",
    "    return response.choices[0].message.content"
   ]
  },
  {
   "cell_type": "code",
   "execution_count": 19,
   "id": "3d926d59-450e-4609-92ba-2d6f244f1342",
   "metadata": {
    "tags": []
   },
   "outputs": [],
   "source": [
    "# A function to display this nicely in the Jupyter output, using markdown\n",
    "def display_summary(url):\n",
    "    # Call the summary function that creates the message format and get a response from OpenAI\n",
    "    summary = summarise(url)\n",
    "\n",
    "    # Convert response into markdown in jupyter notebook\n",
    "    display(Markdown(summary))"
   ]
  },
  {
   "cell_type": "code",
   "execution_count": 21,
   "id": "4a4255f8-97d4-4e40-9bd8-c4e0f278a05e",
   "metadata": {
    "tags": []
   },
   "outputs": [
    {
     "data": {
      "text/markdown": [
       "# CNN Breaking News Website Summary\n",
       "\n",
       "The CNN website provides comprehensive coverage of current events, including **world news, US politics, business, health, entertainment, science, climate, and sports**. It features articles, videos, and analysis on major topics such as the Ukraine-Russia war, Israel-Hamas conflict, wildfires in Turkey, geopolitical disputes, and significant court cases like the Jeffrey Epstein investigation.\n",
       "\n",
       "## Key Highlights:\n",
       "- **Recent Top Stories**: Displacement in Thailand-Cambodia border clashes, Ghislaine Maxwell interview, and major political developments including Trump's economic and legal battles.\n",
       "- **International News**: France recognizes Palestinian state, wildfires in Turkey, and archaeological discoveries in the Grand Canyon.\n",
       "- **US and Political News**: Updates on Trump’s decisions, discussions on tariffs, and investigations into political figures.\n",
       "- **Science & Environment**: Climate change impacts, Arctic glacier retreat, and scientific discoveries such as ancient fossils.\n",
       "- **Entertainment & Lifestyle**: Celebrity updates, trends like slimline sneakers, and cultural stories.\n",
       "- **Sports**: Tennis updates, engagement news about Venus Williams, and major sports tournaments.\n",
       "- **Additional Features**: Interactive videos, podcasts, photo galleries, and in-depth investigations.\n",
       "\n",
       "This platform also offers personalized content recommendations, live TV, and various multimedia options, catering to diverse interests.\n",
       "\n",
       "**Note:** The website includes prompts for user feedback on advertisements and technical issues, emphasizing user experience and engagement.\n",
       "\n",
       "---\n",
       "\n",
       "*This summary excludes navigation prompts and focuses on main content and trending topics.*"
      ],
      "text/plain": [
       "<IPython.core.display.Markdown object>"
      ]
     },
     "metadata": {},
     "output_type": "display_data"
    }
   ],
   "source": [
    "# Let's try one out\n",
    "test_url = \"https://cnn.com\"\n",
    "\n",
    "# Call the function to fetch output\n",
    "display_summary(test_url)"
   ]
  },
  {
   "cell_type": "code",
   "execution_count": null,
   "id": "15f17812-ee64-42b7-912a-43e0b9a08c9e",
   "metadata": {},
   "outputs": [],
   "source": []
  }
 ],
 "metadata": {
  "kernelspec": {
   "display_name": "Python 3 (ipykernel)",
   "language": "python",
   "name": "python3"
  },
  "language_info": {
   "codemirror_mode": {
    "name": "ipython",
    "version": 3
   },
   "file_extension": ".py",
   "mimetype": "text/x-python",
   "name": "python",
   "nbconvert_exporter": "python",
   "pygments_lexer": "ipython3",
   "version": "3.11.5"
  }
 },
 "nbformat": 4,
 "nbformat_minor": 5
}
