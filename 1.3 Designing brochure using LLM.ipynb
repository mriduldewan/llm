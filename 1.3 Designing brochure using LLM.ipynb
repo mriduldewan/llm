{
 "cells": [
  {
   "cell_type": "markdown",
   "id": "a98030af-fcd1-4d63-a36e-38ba053498fa",
   "metadata": {},
   "source": [
    "### BUSINESS CHALLENGE:\n",
    "\n",
    "Creating a product that builds a Brochure for a company to be used for prospective clients, investors and potential recruits. We will be provided a company name and their primary website."
   ]
  },
  {
   "cell_type": "code",
   "execution_count": 1,
   "id": "d5b08506-dc8b-4443-9201-5f1848161363",
   "metadata": {
    "tags": []
   },
   "outputs": [],
   "source": [
    "# imports\n",
    "\n",
    "import os\n",
    "import requests\n",
    "import json\n",
    "from typing import List\n",
    "from dotenv import load_dotenv\n",
    "from bs4 import BeautifulSoup\n",
    "from IPython.display import Markdown, display, update_display\n",
    "from openai import OpenAI"
   ]
  },
  {
   "cell_type": "code",
   "execution_count": 2,
   "id": "fc5d8880-f2ee-4c06-af16-ecbc0262af61",
   "metadata": {
    "tags": []
   },
   "outputs": [
    {
     "name": "stdout",
     "output_type": "stream",
     "text": [
      "API key looks good so far\n"
     ]
    }
   ],
   "source": [
    "# Initialize and constants\n",
    "\n",
    "load_dotenv(override=True)\n",
    "api_key = os.getenv('OPENAI_API_KEY')\n",
    "\n",
    "if api_key and api_key.startswith('sk-proj-') and len(api_key)>10:\n",
    "    print(\"API key looks good so far\")\n",
    "else:\n",
    "    print(\"There might be a problem with your API key? Please visit the troubleshooting notebook!\")\n",
    "    \n",
    "# Specify OpenAI model\n",
    "MODEL = \"gpt-5-nano\"\n",
    "\n",
    "openai = OpenAI()"
   ]
  },
  {
   "cell_type": "code",
   "execution_count": 3,
   "id": "106dd65e-90af-4ca8-86b6-23a41840645b",
   "metadata": {
    "tags": []
   },
   "outputs": [],
   "source": [
    "# A class to represent a Webpage\n",
    "\n",
    "# Some websites need you to use proper headers when fetching them:\n",
    "headers = {\n",
    " \"User-Agent\": \"Mozilla/5.0 (Windows NT 10.0; Win64; x64) AppleWebKit/537.36 (KHTML, like Gecko) Chrome/117.0.0.0 Safari/537.36\"\n",
    "}\n",
    "\n",
    "class Website:\n",
    "    \"\"\"\n",
    "    A utility class to represent a Website that we have scraped, now with links\n",
    "    \"\"\"\n",
    "\n",
    "    def __init__(self, url):\n",
    "        self.url = url\n",
    "        response = requests.get(url, headers=headers)\n",
    "        self.body = response.content\n",
    "        soup = BeautifulSoup(self.body, 'html.parser')\n",
    "        self.title = soup.title.string if soup.title else \"No title found\"\n",
    "        if soup.body:\n",
    "            for irrelevant in soup.body([\"script\", \"style\", \"img\", \"input\"]):\n",
    "                irrelevant.decompose()\n",
    "            self.text = soup.body.get_text(separator=\"\\n\", strip=True)\n",
    "        else:\n",
    "            self.text = \"\"\n",
    "        \n",
    "        # Fetch all links from the website\n",
    "        links = [link.get('href') for link in soup.find_all('a')]\n",
    "        self.links = [link for link in links if link]\n",
    "\n",
    "    def get_contents(self):\n",
    "        return f\"Webpage Title:\\n{self.title}\\nWebpage Contents:\\n{self.text}\\n\\n\""
   ]
  },
  {
   "cell_type": "code",
   "execution_count": 31,
   "id": "e30d8128-933b-44cc-81c8-ab4c9d86589a",
   "metadata": {
    "tags": []
   },
   "outputs": [],
   "source": [
    "test_url = \"https://cnn.com\"\n",
    "site_obj = Website(test_url)\n",
    "\n",
    "# Print links\n",
    "#site_obj.links"
   ]
  },
  {
   "cell_type": "markdown",
   "id": "1771af9c-717a-4fca-bbbe-8a95893312c3",
   "metadata": {},
   "source": [
    "## Step 1: Have GPT figure out which links are relevant\n",
    "\n",
    "### Use a call to gpt-4.1-nano to read the links on a webpage, and respond in structured JSON.  \n",
    "It should decide which links are relevant, and replace relative links such as \"/about\" with \"https://company.com/about\".  \n",
    "We will use \"one shot prompting\" in which we provide an example of how it should respond in the prompt."
   ]
  },
  {
   "cell_type": "code",
   "execution_count": 6,
   "id": "6957b079-0d96-45f7-a26a-3487510e9b35",
   "metadata": {
    "tags": []
   },
   "outputs": [],
   "source": [
    "link_system_prompt = \"You are provided with a list of links found on a webpage. \\\n",
    "You are able to decide which of the links would be most relevant to include in a brochure about the company, \\\n",
    "such as links to an About page, or a Company page, or Careers/Jobs pages.\\n\"\n",
    "link_system_prompt += \"You should respond in JSON as in this example:\"\n",
    "link_system_prompt += \"\"\"\n",
    "{\n",
    "    \"links\": [\n",
    "        {\"type\": \"about page\", \"url\": \"https://full.url/goes/here/about\"},\n",
    "        {\"type\": \"careers page\", \"url\": \"https://another.full.url/careers\"}\n",
    "    ]\n",
    "}\n",
    "\"\"\""
   ]
  },
  {
   "cell_type": "code",
   "execution_count": 7,
   "id": "b97e4068-97ed-4120-beae-c42105e4d59a",
   "metadata": {
    "tags": []
   },
   "outputs": [
    {
     "name": "stdout",
     "output_type": "stream",
     "text": [
      "You are provided with a list of links found on a webpage. You are able to decide which of the links would be most relevant to include in a brochure about the company, such as links to an About page, or a Company page, or Careers/Jobs pages.\n",
      "You should respond in JSON as in this example:\n",
      "{\n",
      "    \"links\": [\n",
      "        {\"type\": \"about page\", \"url\": \"https://full.url/goes/here/about\"},\n",
      "        {\"type\": \"careers page\", \"url\": \"https://another.full.url/careers\"}\n",
      "    ]\n",
      "}\n",
      "\n"
     ]
    }
   ],
   "source": [
    "print(link_system_prompt)"
   ]
  },
  {
   "cell_type": "code",
   "execution_count": 8,
   "id": "8e1f601b-2eaf-499d-b6b8-c99050c9d6b3",
   "metadata": {
    "tags": []
   },
   "outputs": [],
   "source": [
    "def get_links_user_prompt(website):\n",
    "    user_prompt = f\"Here is the list of links on the website of {website.url} - \"\n",
    "    user_prompt += \"please decide which of these are relevant web links for a brochure about the company, respond with the full https URL in JSON format. \\\n",
    "Do not include Terms of Service, Privacy, email links.\\n\"\n",
    "    user_prompt += \"Links (some might be relative links):\\n\"\n",
    "    user_prompt += \"\\n\".join(website.links)\n",
    "    return user_prompt"
   ]
  },
  {
   "cell_type": "code",
   "execution_count": 11,
   "id": "a29aca19-ca13-471c-a4b4-5abbfa813f69",
   "metadata": {
    "tags": []
   },
   "outputs": [],
   "source": [
    "def get_links(url):\n",
    "    website = Website(url)\n",
    "    response = openai.chat.completions.create(\n",
    "        model=MODEL,\n",
    "        messages=[\n",
    "            {\"role\": \"system\", \"content\": link_system_prompt},\n",
    "            {\"role\": \"user\", \"content\": get_links_user_prompt(website)}\n",
    "      ],\n",
    "        response_format={\"type\": \"json_object\"}\n",
    "    )\n",
    "    result = response.choices[0].message.content\n",
    "    return json.loads(result)"
   ]
  },
  {
   "cell_type": "code",
   "execution_count": 26,
   "id": "d3d583e2-dcc4-40cc-9b28-1e8dbf402924",
   "metadata": {
    "tags": []
   },
   "outputs": [
    {
     "data": {
      "text/plain": [
       "{'links': [{'type': 'about page', 'url': 'https://edition.cnn.com/about'},\n",
       "  {'type': 'company profile', 'url': 'https://edition.cnn.com/profiles'},\n",
       "  {'type': 'leadership',\n",
       "   'url': 'https://edition.cnn.com/profiles/cnn-leadership'},\n",
       "  {'type': 'careers', 'url': 'https://careers.wbd.com/cnnjobs'}]}"
      ]
     },
     "execution_count": 26,
     "metadata": {},
     "output_type": "execute_result"
    }
   ],
   "source": [
    "# Get the most relevant links\n",
    "get_links(test_url)"
   ]
  },
  {
   "cell_type": "markdown",
   "id": "0d74128e-dfb6-47ec-9549-288b621c838c",
   "metadata": {},
   "source": [
    "## Step 2: make the brochure!\n",
    "\n",
    "Assemble all the details into another prompt to GPT 4.1-nano"
   ]
  },
  {
   "cell_type": "code",
   "execution_count": 27,
   "id": "85a5b6e2-e7ef-44a9-bc7f-59ede71037b5",
   "metadata": {
    "tags": []
   },
   "outputs": [],
   "source": [
    "def get_all_details(url):\n",
    "    result = \"Landing page:\\n\"\n",
    "    result += Website(url).get_contents()\n",
    "    \n",
    "    # Get relevant links identified by llm\n",
    "    links = get_links(url)\n",
    "    print(\"Found links:\", links)\n",
    "    \n",
    "    # Navigate to each relevant link and fetch content of each page on the link\n",
    "    for link in links[\"links\"]:\n",
    "        result += f\"\\n\\n{link['type']}\\n\"\n",
    "        result += Website(link[\"url\"]).get_contents()\n",
    "    return result"
   ]
  },
  {
   "cell_type": "code",
   "execution_count": 29,
   "id": "9b863a55-f86c-4e3f-8a79-94e24c1a8cf2",
   "metadata": {
    "tags": []
   },
   "outputs": [],
   "source": [
    "system_prompt = \"You are an assistant that analyzes the contents of several relevant pages from a company website \\\n",
    "and creates a short brochure about the company for prospective customers, investors and recruits. Respond in markdown.\\\n",
    "Include details of company culture, customers and careers/jobs if you have the information.\"\n",
    "\n",
    "# Or uncomment the lines below for a more humorous brochure - this demonstrates how easy it is to incorporate 'tone':\n",
    "\n",
    "# system_prompt = \"You are an assistant that analyzes the contents of several relevant pages from a company website \\\n",
    "# and creates a short humorous, entertaining, jokey brochure about the company for prospective customers, investors and recruits. Respond in markdown.\\\n",
    "# Include details of company culture, customers and careers/jobs if you have the information.\"\n"
   ]
  },
  {
   "cell_type": "code",
   "execution_count": 32,
   "id": "6ab83d92-d36b-4ce0-8bcc-5bb4c2f8ff23",
   "metadata": {
    "tags": []
   },
   "outputs": [],
   "source": [
    "def get_brochure_user_prompt(company_name, url):\n",
    "    user_prompt = f\"You are looking at a company called: {company_name}\\n\"\n",
    "    user_prompt += f\"Here are the contents of its landing page and other relevant pages; use this information to build a short brochure of the company in markdown.\\n\"\n",
    "    user_prompt += get_all_details(url)\n",
    "    user_prompt = user_prompt[:5_000] # Truncate if more than 5,000 characters (to maintain cost)\n",
    "    return user_prompt"
   ]
  },
  {
   "cell_type": "code",
   "execution_count": 33,
   "id": "cd909e0b-1312-4ce2-a553-821e795d7572",
   "metadata": {
    "tags": []
   },
   "outputs": [
    {
     "name": "stdout",
     "output_type": "stream",
     "text": [
      "Found links: {'links': [{'type': 'about page', 'url': 'https://edition.cnn.com/about'}, {'type': 'careers page', 'url': 'https://careers.wbd.com/cnnjobs'}]}\n"
     ]
    }
   ],
   "source": [
    "brochure_user_prompt = get_brochure_user_prompt(\"CNN\", test_url)"
   ]
  },
  {
   "cell_type": "code",
   "execution_count": 22,
   "id": "e44de579-4a1a-4e6a-a510-20ea3e4b8d46",
   "metadata": {
    "tags": []
   },
   "outputs": [],
   "source": [
    "def create_brochure(company_name, url):\n",
    "    response = openai.chat.completions.create(\n",
    "        model=MODEL,\n",
    "        messages=[\n",
    "            {\"role\": \"system\", \"content\": system_prompt},\n",
    "            {\"role\": \"user\", \"content\": get_brochure_user_prompt(company_name, url)}\n",
    "          ],\n",
    "    )\n",
    "    result = response.choices[0].message.content\n",
    "    display(Markdown(result))"
   ]
  },
  {
   "cell_type": "code",
   "execution_count": 34,
   "id": "e093444a-9407-42ae-924a-145730591a39",
   "metadata": {
    "tags": []
   },
   "outputs": [
    {
     "name": "stdout",
     "output_type": "stream",
     "text": [
      "Found links: {'links': [{'type': 'about page', 'url': 'https://edition.cnn.com/about'}, {'type': 'company profile', 'url': 'https://edition.cnn.com/profiles'}, {'type': 'leadership', 'url': 'https://edition.cnn.com/profiles/cnn-leadership'}, {'type': 'careers page', 'url': 'https://careers.wbd.com/cnnjobs'}]}\n"
     ]
    },
    {
     "data": {
      "text/markdown": [
       "# CNN Company Brochure\n",
       "\n",
       "## About CNN\n",
       "\n",
       "CNN (Cable News Network) is a premier global news organization committed to delivering breaking news, in-depth analysis, and comprehensive coverage of international and domestic affairs. As a trusted source of timely information, CNN serves millions of viewers worldwide across numerous digital platforms, including live TV, website, and mobile applications.\n",
       "\n",
       "---\n",
       "\n",
       "## Our Values\n",
       "\n",
       "- **Accuracy & Integrity:** We prioritize factual reporting and journalistic ethics.\n",
       "- **Inclusivity & Diversity:** We aim to present diverse perspectives and voices.\n",
       "- **Innovation:** We continually adapt with cutting-edge technology to improve how news is delivered.\n",
       "- **Responsiveness:** We value viewer feedback to enhance the quality and relevance of our content.\n",
       "\n",
       "---\n",
       "\n",
       "## Company Culture\n",
       "\n",
       "At CNN, we foster a dynamic, collaborative, and innovative work environment. Our teams are passionate about journalism and committed to upholding the highest standards of integrity. We encourage creativity, continuous learning, and respectful engagement across all our departments. CNN values employee feedback and strives to create an inclusive culture that supports diversity and professional growth.\n",
       "\n",
       "---\n",
       "\n",
       "## Our Global Reach & Audience\n",
       "\n",
       "CNN's global presence includes coverage of major topics such as politics, health, science, climate change, and entertainment. Whether breaking news from Ukraine, Gaza, or the latest on the US elections, CNN provides timely updates and in-depth analysis to an international audience. The platform also offers various multimedia content including videos, podcasts, and live TV to cater to diverse viewer preferences.\n",
       "\n",
       "---\n",
       "\n",
       "## Careers & Opportunities\n",
       "\n",
       "Join CNN and become part of a world-class team dedicated to impactful journalism. We offer a variety of career opportunities for talented professionals in journalism, technology, production, digital media, and more. CNN promotes a culture of innovation and excellence, providing a stimulating environment for growth and development.\n",
       "\n",
       "### Why Work with CNN?\n",
       "- Be part of a global leader in news and media.\n",
       "- Collaborate with passionate, talented colleagues.\n",
       "- Contribute to impactful journalism that informs and influences millions.\n",
       "- Enjoy ongoing professional development and career advancement opportunities.\n",
       "\n",
       "---\n",
       "\n",
       "## Connect With Us\n",
       "\n",
       "- Sign in or create an account to personalize your news experience.\n",
       "- Subscribe to newsletters or follow topics of interest.\n",
       "- Engage with interactive content and participate in feedback surveys to shape future coverage.\n",
       "\n",
       "---\n",
       "\n",
       "**Discover the world with CNN — Your trusted source for news, analysis, and stories that matter.**"
      ],
      "text/plain": [
       "<IPython.core.display.Markdown object>"
      ]
     },
     "metadata": {},
     "output_type": "display_data"
    }
   ],
   "source": [
    "create_brochure(\"CNN\", test_url)"
   ]
  },
  {
   "cell_type": "markdown",
   "id": "61eaaab7-0b47-4b29-82d4-75d474ad8d18",
   "metadata": {},
   "source": [
    "## Finally - a minor improvement\n",
    "\n",
    "With a small adjustment, we can change this so that the results stream back from OpenAI,\n",
    "with the familiar typewriter animation"
   ]
  },
  {
   "cell_type": "code",
   "execution_count": 36,
   "id": "51db0e49-f261-4137-aabe-92dd601f7725",
   "metadata": {
    "tags": []
   },
   "outputs": [],
   "source": [
    "def stream_brochure(company_name, url):\n",
    "    stream = openai.chat.completions.create(\n",
    "        model=MODEL,\n",
    "        messages=[\n",
    "            {\"role\": \"system\", \"content\": system_prompt},\n",
    "            {\"role\": \"user\", \"content\": get_brochure_user_prompt(company_name, url)}\n",
    "          ],\n",
    "        stream=True\n",
    "    )\n",
    "    \n",
    "    response = \"\"\n",
    "    display_handle = display(Markdown(\"\"), display_id=True)\n",
    "    for chunk in stream:\n",
    "        response += chunk.choices[0].delta.content or ''\n",
    "        response = response.replace(\"```\",\"\").replace(\"markdown\", \"\")\n",
    "        update_display(Markdown(response), display_id=display_handle.display_id)"
   ]
  },
  {
   "cell_type": "code",
   "execution_count": 37,
   "id": "56bf0ae3-ee9d-4a72-9cd6-edcac67ceb6d",
   "metadata": {
    "tags": []
   },
   "outputs": [
    {
     "name": "stdout",
     "output_type": "stream",
     "text": [
      "Found links: {'links': [{'type': 'about page', 'url': 'https://edition.cnn.com/about'}, {'type': 'company page', 'url': 'https://edition.cnn.com/profiles'}, {'type': 'leadership page', 'url': 'https://edition.cnn.com/profiles/cnn-leadership'}, {'type': 'careers page', 'url': 'https://careers.wbd.com/cnnjobs'}]}\n"
     ]
    },
    {
     "data": {
      "text/markdown": [
       "# CNN: A Premier Source for Global News and Information\n",
       "\n",
       "---\n",
       "\n",
       "## About CNN\n",
       "\n",
       "CNN (Cable News Network) is a leading global news organization dedicated to providing timely, relevant, and comprehensive coverage of world events. From breaking news to in-depth analysis, CNN keeps audiences informed and engaged on issues that matter most. With a commitment to journalistic integrity and innovation, CNN serves millions of viewers worldwide through TV, digital platforms, and multimedia content.\n",
       "\n",
       "---\n",
       "\n",
       "## Our Culture\n",
       "\n",
       "At CNN, we foster a dynamic and inclusive environment that values feedback, innovation, and integrity. Our team is committed to delivering accurate news while embracing technological advancements to enhance storytelling. We prioritize transparency, diversity, and a proactive approach to journalism, making us a trusted name in media worldwide.\n",
       "\n",
       "---\n",
       "\n",
       "## Our Audience & Coverage\n",
       "\n",
       "CNN caters to a diverse global audience, providing coverage across various sectors including:\n",
       "\n",
       "- Politics\n",
       "- Business and Economy\n",
       "- Health and Science\n",
       "- Entertainment and Lifestyle\n",
       "- Travel and Culture\n",
       "- Sports\n",
       "- Climate and Environment\n",
       "- Ongoing World Events such as the Ukraine-Russia War and Israel-Hamas War\n",
       "\n",
       "Our content includes news articles, live updates, videos, in-depth analyses, and special features, ensuring comprehensive understanding of current events.\n",
       "\n",
       "---\n",
       "\n",
       "## Careers at CNN\n",
       "\n",
       "Join our team and be part of a forward-thinking organization at the forefront of news media. CNN offers exciting career opportunities for professionals passionate about journalism, technology, media, and communications. We value innovation, teamwork, and a commitment to truth — qualities that help us continue delivering impactful news worldwide.\n",
       "\n",
       "**Working at CNN means:**\n",
       "\n",
       "- Contributing to a global news legacy\n",
       "- Collaborating with industry leaders\n",
       "- Embracing a culture of learning and growth\n",
       "- Engaging in meaningful work that informs and influences\n",
       "\n",
       "---\n",
       "\n",
       "## Why Choose CNN?\n",
       "\n",
       "- Trusted global news organization\n",
       "- Cutting-edge digital and multimedia presence\n",
       "- Inclusive and progressive workplace environment\n",
       "- Opportunities for growth and professional development\n",
       "\n",
       "Join CNN and be part of a legacy that informs, inspires, and impacts the world.\n",
       "\n",
       "---\n",
       "\n",
       "### Contact and Learn More\n",
       "\n",
       "Visit our website and follow us on social media to stay updated with the latest careers, news, and innovations at CNN.\n",
       "\n",
       "---\n",
       "\n",
       "**© CNN**  \n",
       "Your trusted source for news and information."
      ],
      "text/plain": [
       "<IPython.core.display.Markdown object>"
      ]
     },
     "metadata": {},
     "output_type": "display_data"
    }
   ],
   "source": [
    "stream_brochure(\"CNN\", test_url)"
   ]
  },
  {
   "cell_type": "code",
   "execution_count": null,
   "id": "b8d3e1a1-ba54-4907-97c5-30f89a24775b",
   "metadata": {},
   "outputs": [],
   "source": []
  }
 ],
 "metadata": {
  "kernelspec": {
   "display_name": "Python 3 (ipykernel)",
   "language": "python",
   "name": "python3"
  },
  "language_info": {
   "codemirror_mode": {
    "name": "ipython",
    "version": 3
   },
   "file_extension": ".py",
   "mimetype": "text/x-python",
   "name": "python",
   "nbconvert_exporter": "python",
   "pygments_lexer": "ipython3",
   "version": "3.11.5"
  }
 },
 "nbformat": 4,
 "nbformat_minor": 5
}
