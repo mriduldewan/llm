{
 "cells": [
  {
   "cell_type": "code",
   "execution_count": 1,
   "id": "4e2a9393-7767-488e-a8bf-27c12dca35bd",
   "metadata": {
    "tags": []
   },
   "outputs": [],
   "source": [
    "import os\n",
    "import json\n",
    "import time\n",
    "import pandas as pd\n",
    "from datetime import datetime\n",
    "from ollama import Client # Import Ollama client\n",
    "from concurrent.futures import ThreadPoolExecutor, as_completed # For concurrent processing"
   ]
  },
  {
   "cell_type": "markdown",
   "id": "6900b2a8-6384-4316-8aaa-5e519fca4254",
   "metadata": {},
   "source": [
    "## Connecting to OpenAI (or Ollama in case of open source)\n",
    "\n",
    "The next cell is where we load in the environment variables in your `.env` file and connect to OpenAI.  "
   ]
  },
  {
   "cell_type": "code",
   "execution_count": 7,
   "id": "7b87cadb-d513-4303-baee-a37b6f938e4d",
   "metadata": {
    "tags": []
   },
   "outputs": [],
   "source": [
    "# Constants\n",
    "OLLAMA_HOST = \"http://localhost:11434\" # Default Ollama host\n",
    "HEADERS = {\"Content-Type\": \"application/json\"}\n",
    "MODEL = \"deepseek-r1:8b\""
   ]
  },
  {
   "cell_type": "markdown",
   "id": "6a478a0c-2c53-48ff-869c-4d08199931e1",
   "metadata": {},
   "source": [
    "## Create system and user prompts to input to the model\n",
    "Most models have been trained to receive instructions in a particular way. They expect to receive:\n",
    "\n",
    "**A system prompt** that tells them what task they are performing and what tone they should use\n",
    "\n",
    "**A user prompt** -- the conversation starter that they should reply to"
   ]
  },
  {
   "cell_type": "code",
   "execution_count": 3,
   "id": "abdb8417-c5dc-44bc-9bee-2e059d162699",
   "metadata": {
    "tags": []
   },
   "outputs": [],
   "source": [
    "# Define our system prompt\n",
    "\n",
    "system_prompt = \"\"\"You are an expert topic classifier for student feedback from a vocational education and training institution.\n",
    "Your task is to analyze student verbatims and assign one or more topics from a predefined list.\\\n",
    "You must adhere to the following rules:\n",
    "1.  Match the verbatim to the most relevant topics from the provided topic list.\n",
    "2.  If the verbatim is not relevant to any topic on the list, return 'No Match'.\n",
    "3.  You can assign more than one topic if the verbatim covers multiple subjects.\n",
    "4.  Your output must be a single JSON object.\n",
    "5.  The JSON object must have two keys: 'topics' and 'verbatim_text'.\n",
    "6.  The value for 'topics' should be a list of strings. Each string must be a topic from the provided list or the string 'No Match'.\n",
    "7.  The value for 'verbatim_text' should be the original verbatim you are analyzing.\n",
    "\n",
    "Below is a list of predefined topics and five examples of how to classify a verbatim.\n",
    "\n",
    "**Topic List:**\n",
    "- Enrolment Process\n",
    "- Student Support Services\n",
    "- Course Content and Relevance\n",
    "- Trainer Quality and Engagement\n",
    "- Facilities and Campus Environment\n",
    "- Timetable and Scheduling\n",
    "- Online Learning Platform\n",
    "- Assessment and Feedback\n",
    "- Career and Employment Services\n",
    "- Technology and Equipment\n",
    "- Communication and Information\n",
    "- Student Welfare and Wellbeing\n",
    "- Course Fees and Payments\n",
    "- Recognition of Prior Learning (RPL)\n",
    "- Work Placement\n",
    "- Graduation and Completion\"\"\"\n"
   ]
  },
  {
   "cell_type": "code",
   "execution_count": 4,
   "id": "f0275b1b-7cfe-4f9d-abfa-7650d378da0c",
   "metadata": {
    "tags": []
   },
   "outputs": [],
   "source": [
    "# A function that writes a User Prompt that asks for summaries of websites:\n",
    "\n",
    "def user_prompt_for(verbatim):\n",
    "    user_prompt = f\"\"\"\n",
    "    You are looking at a verbatim from a student. Based on the list of topics provided, below are five examples of how to classify a verbatim.\n",
    "\n",
    "    **Examples for Few-Shot Classification:**\n",
    "\n",
    "    1. **Verbatim:** \"I'm having trouble with the login for the online portal, and the Wi-Fi on campus is really slow.\"\n",
    "       **Topics:** [\"Online Learning Platform\", \"Technology and Equipment\"]\n",
    "\n",
    "    2. **Verbatim:** \"John is great! He explains everything clearly and is always available to help after class.\"\n",
    "       **Topics:** [\"Trainer Quality and Engagement\"]\n",
    "\n",
    "    3. **Verbatim:** \"I asked about my results from last semester, but nobody has gotten back to me. I've been waiting for weeks.\"\n",
    "       **Topics:** [\"Communication and Information\", \"Assessment and Feedback\"]\n",
    "\n",
    "    4. **Verbatim:** \"The campus cafeteria has really limited options, and the library hours are not great for students who work.\"\n",
    "       **Topics:** [\"Facilities and Campus Environment\"]\n",
    "\n",
    "    5. **Verbatim:** \"I've been working as a mechanic for 10 years, and I want to see if I can get credit for my experience towards this course.\"\n",
    "       **Topics:** [\"Recognition of Prior Learning (RPL)\"]\n",
    "\n",
    "    **New Verbatim to Classify:**\n",
    "    {verbatim}\n",
    "    \"\"\"\n",
    "    \n",
    "    return user_prompt"
   ]
  },
  {
   "cell_type": "markdown",
   "id": "ea211b5f-28e1-4a86-8e52-c0b7677cadcc",
   "metadata": {},
   "source": [
    "**Create Message for the model** : The API from OpenAI expects to receive messages in a particular structure.\n",
    "\n",
    "```python\n",
    "[\n",
    "    {\"role\": \"system\", \"content\": \"system message goes here\"},\n",
    "    {\"role\": \"user\", \"content\": \"user message goes here\"}\n",
    "]\n",
    "```"
   ]
  },
  {
   "cell_type": "code",
   "execution_count": 6,
   "id": "0134dfa4-8299-48b5-b444-f2a8c3403c88",
   "metadata": {
    "tags": []
   },
   "outputs": [],
   "source": [
    "# Create the message structure\n",
    "def messages_for(verbatim):\n",
    "    return [\n",
    "        {\"role\": \"system\", \"content\": system_prompt},\n",
    "        {\"role\": \"user\", \"content\": user_prompt_for(verbatim)}\n",
    "    ]"
   ]
  },
  {
   "cell_type": "markdown",
   "id": "16f49d46-bf55-4c3e-928f-68fc0bf715b0",
   "metadata": {},
   "source": [
    "## Bring it together"
   ]
  },
  {
   "cell_type": "code",
   "execution_count": 40,
   "id": "905b9919-aba7-45b5-ae65-81b3d1d78e34",
   "metadata": {
    "tags": []
   },
   "outputs": [],
   "source": [
    "# Create an Ollama client instance\n",
    "ollama_client = Client(host=OLLAMA_HOST)\n",
    "\n",
    "# And now: call the OpenAI API to perform the task.\n",
    "def return_topics(verbatim_obj):\n",
    "    verbatim = verbatim_obj['verbatim_text']\n",
    "    custom_id = verbatim_obj['custom_id']\n",
    "    \n",
    "    try:        \n",
    "        response = ollama_client.chat(\n",
    "                model=MODEL,\n",
    "                messages=messages_for(verbatim),\n",
    "                options={\n",
    "                    \"temperature\": 0.0, # Adjust as needed for classification\n",
    "                    \"top_p\": 0.9,\n",
    "                    \"num_predict\": 200, # Limit response length if needed\n",
    "                },\n",
    "                format=\"json\" # Important: Ask Ollama for JSON output\n",
    "            )\n",
    "\n",
    "        # Get Ollama response content (slightly diff from OpenAI)\n",
    "        response_content = response['message']['content']\n",
    "\n",
    "        # Parse the JSON string from the model's response\n",
    "        classification_data = json.loads(response_content)\n",
    "        \n",
    "        return {\n",
    "                'custom_id': classification_data.get('custom_id', custom_id),\n",
    "                'topics': classification_data.get('topics', ['Error: No topics']), # Use .get for safety\n",
    "                'verbatim_text': classification_data.get('verbatim_text', verbatim)\n",
    "            }\n",
    "\n",
    "    except json.JSONDecodeError as e:\n",
    "        print(f\"JSON decoding error for ID {custom_id}: {e}. Raw response: {response_content}\")\n",
    "        return {\n",
    "            'custom_id': custom_id,\n",
    "            'topics': ['Error: JSON Decode Error'],\n",
    "            'verbatim_text': verbatim_text\n",
    "        }\n",
    "    except Exception as e:\n",
    "        print(f\"Error processing verbatim ID {custom_id}: {e}\")\n",
    "        return {\n",
    "            'custom_id': custom_id,\n",
    "            'topics': ['Error: API Call Failed'],\n",
    "            'verbatim_text': verbatim_text\n",
    "        }"
   ]
  },
  {
   "cell_type": "markdown",
   "id": "0240b9b0-9f88-406f-9f98-1e835f7fed1a",
   "metadata": {},
   "source": [
    "## Create Batch "
   ]
  },
  {
   "cell_type": "code",
   "execution_count": 32,
   "id": "681601fe-e178-491f-bcb4-c0d62e19db5c",
   "metadata": {
    "tags": []
   },
   "outputs": [],
   "source": [
    "# Sample list of verbatims\n",
    "verbatims_to_classify = [\n",
    "    \"My classes are all over the place. I have to come to campus three times a week for just one or two hours each time.\",\n",
    "    \"The course material is outdated; we're still learning about software from five years ago.\",\n",
    "    \"I tried to get help from the student welfare office, but they were closed.\",\n",
    "    \"My final assignment feedback was very vague, and I don't know what to improve on.\",\n",
    "    \"I'm not sure if this is the right career path for me after finishing this course.\",\n",
    "    \"The computer labs have really old computers, and some don't even work properly.\",\n",
    "    \"The process to apply for this course was so confusing and the website kept crashing.\",\n",
    "    \"My work placement was very unorganized and I felt like I didn't learn anything.\",\n",
    "    \"The person who was meant to help me with my enrolment never got back to me.\",\n",
    "    \"The cost of the textbooks is way too high, and I'm not sure if I can afford them.\",\n",
    "    \"This feedback is not about any of the topics.\",\n",
    "    \"I need help with my resume and job applications after I graduate.\",\n",
    "    \"The fees for next semester seem to have increased without much warning.\",\n",
    "    \"The campus security could be better, I don't feel entirely safe at night.\",\n",
    "    \"I really enjoy the practical exercises in this course; they are very relevant to industry.\",\n",
    "]"
   ]
  },
  {
   "cell_type": "code",
   "execution_count": 33,
   "id": "3d926d59-450e-4609-92ba-2d6f244f1342",
   "metadata": {
    "tags": []
   },
   "outputs": [],
   "source": [
    "# Prepare data for concurrent processing\n",
    "data_for_processing = []\n",
    "for i, verbatim in enumerate(verbatims_to_classify):\n",
    "    data_for_processing.append({\"custom_id\": f\"verbatim_{i+1}\", \"verbatim_text\": verbatim})\n"
   ]
  },
  {
   "cell_type": "code",
   "execution_count": 35,
   "id": "485927f3-fb8a-4480-a502-e4479f5bedb5",
   "metadata": {
    "tags": []
   },
   "outputs": [],
   "source": [
    "# --- Concurrent Processing with ThreadPoolExecutor ---\n",
    "\n",
    "# max_workers should be adjusted based on your system's resources (CPU cores, VRAM)\n",
    "# and OLLAMA_NUM_PARALLEL setting. Start with a small number like 2-4.\n",
    "MAX_CONCURRENT_REQUESTS = 4 "
   ]
  },
  {
   "cell_type": "code",
   "execution_count": 44,
   "id": "4cea3cbb-48d3-43d6-9c70-5750b09a4d19",
   "metadata": {
    "tags": []
   },
   "outputs": [
    {
     "name": "stdout",
     "output_type": "stream",
     "text": [
      "\n",
      "Starting batch processing with 4 concurrent requests...\n",
      "Processed 15/15 verbatims...\n",
      "Batch processing complete.\n"
     ]
    }
   ],
   "source": [
    "print(f\"\\nStarting batch processing with {MAX_CONCURRENT_REQUESTS} concurrent requests...\")\n",
    "\n",
    "parsed_results = []\n",
    "with ThreadPoolExecutor(max_workers=MAX_CONCURRENT_REQUESTS) as executor:\n",
    "    # Submit all verbatims to the executor\n",
    "    job_queue = {executor.submit(return_topics, item): item for item in data_for_processing}\n",
    "    \n",
    "    # As results complete, retrieve them\n",
    "    for job in as_completed(job_queue):\n",
    "        result = job.result()\n",
    "        if result: # Only add if result is not None (in case of total failure)\n",
    "            parsed_results.append(result)\n",
    "        # Optional: Add a progress indicator\n",
    "        print(f\"Processed {len(parsed_results)}/{len(data_for_processing)} verbatims...\", end='\\r')\n",
    "\n",
    "print(\"\\nBatch processing complete.\")"
   ]
  },
  {
   "cell_type": "code",
   "execution_count": 54,
   "id": "7f8b0b0d-ee5f-4f64-a1ca-cbef7ff8af28",
   "metadata": {
    "tags": []
   },
   "outputs": [
    {
     "name": "stdout",
     "output_type": "stream",
     "text": [
      "Verbatim 1 : My final assignment feedback was very vague, and I don't know what to improve on.\n",
      "Predicted Topics : ['Assessment and Feedback']\n",
      "\n",
      "Verbatim 2 : My classes are all over the place. I have to come to campus three times a week for just one or two hours each time.\n",
      "Predicted Topics : ['Timetable and Scheduling']\n",
      "\n",
      "Verbatim 3 : The course material is outdated; we're still learning about software from five years ago.\n",
      "Predicted Topics : ['Course Content and Relevance']\n",
      "\n",
      "Verbatim 4 : I tried to get help from the student welfare office, but they were closed.\n",
      "Predicted Topics : ['Student Welfare and Wellbeing']\n",
      "\n",
      "Verbatim 5 : I'm not sure if this is the right career path for me after finishing this course.\n",
      "Predicted Topics : ['Career and Employment Services']\n",
      "\n",
      "Verbatim 6 : The computer labs have really old computers, and some don't even work properly.\n",
      "Predicted Topics : ['Technology and Equipment']\n",
      "\n",
      "Verbatim 7 : The process to apply for this course was so confusing and the website kept crashing.\n",
      "Predicted Topics : ['Enrolment Process', 'Online Learning Platform']\n",
      "\n",
      "Verbatim 8 : My work placement was very unorganized and I felt like I didn't learn anything.\n",
      "Predicted Topics : ['Work Placement']\n",
      "\n",
      "Verbatim 9 : The cost of the textbooks is way too high, and I'm not sure if I can afford them.\n",
      "Predicted Topics : ['Course Fees and Payments']\n",
      "\n",
      "Verbatim 10 : The person who was meant to help me with my enrolment never got back to me.\n",
      "Predicted Topics : ['Enrolment Process', 'Communication and Information']\n",
      "\n",
      "Verbatim 11 : This feedback is not about any of the topics.\n",
      "Predicted Topics : []\n",
      "\n",
      "Verbatim 12 : I need help with my resume and job applications after I graduate.\n",
      "Predicted Topics : ['Career and Employment Services']\n",
      "\n",
      "Verbatim 13 : The fees for next semester seem to have increased without much warning.\n",
      "Predicted Topics : ['Course Fees and Payments']\n",
      "\n",
      "Verbatim 14 : The campus security could be better, I don't feel entirely safe at night.\n",
      "Predicted Topics : ['Facilities and Campus Environment']\n",
      "\n",
      "Verbatim 15 : I really enjoy the practical exercises in this course; they are very relevant to industry.\n",
      "Predicted Topics : ['Course Content and Relevance']\n",
      "\n"
     ]
    }
   ],
   "source": [
    "for i, result in enumerate(parsed_results):\n",
    "    print(f\"Verbatim {i+1} : {result['verbatim_text']}\")\n",
    "    print(f\"Predicted Topics : {result['topics']}\\n\")\n",
    "    \n",
    "    "
   ]
  },
  {
   "cell_type": "code",
   "execution_count": 53,
   "id": "f51566a8-a6f5-4055-972a-b1c3f7b6b7f5",
   "metadata": {
    "tags": []
   },
   "outputs": [
    {
     "name": "stdout",
     "output_type": "stream",
     "text": [
      "\n",
      "--- Final Results DataFrame ---\n"
     ]
    },
    {
     "data": {
      "text/html": [
       "<div>\n",
       "<style scoped>\n",
       "    .dataframe tbody tr th:only-of-type {\n",
       "        vertical-align: middle;\n",
       "    }\n",
       "\n",
       "    .dataframe tbody tr th {\n",
       "        vertical-align: top;\n",
       "    }\n",
       "\n",
       "    .dataframe thead th {\n",
       "        text-align: right;\n",
       "    }\n",
       "</style>\n",
       "<table border=\"1\" class=\"dataframe\">\n",
       "  <thead>\n",
       "    <tr style=\"text-align: right;\">\n",
       "      <th></th>\n",
       "      <th>verbatim_text</th>\n",
       "      <th>topics</th>\n",
       "    </tr>\n",
       "  </thead>\n",
       "  <tbody>\n",
       "    <tr>\n",
       "      <th>0</th>\n",
       "      <td>My final assignment feedback was very vague, a...</td>\n",
       "      <td>Assessment and Feedback</td>\n",
       "    </tr>\n",
       "    <tr>\n",
       "      <th>1</th>\n",
       "      <td>My classes are all over the place. I have to c...</td>\n",
       "      <td>Timetable and Scheduling</td>\n",
       "    </tr>\n",
       "    <tr>\n",
       "      <th>2</th>\n",
       "      <td>The course material is outdated; we're still l...</td>\n",
       "      <td>Course Content and Relevance</td>\n",
       "    </tr>\n",
       "    <tr>\n",
       "      <th>3</th>\n",
       "      <td>I tried to get help from the student welfare o...</td>\n",
       "      <td>Student Welfare and Wellbeing</td>\n",
       "    </tr>\n",
       "    <tr>\n",
       "      <th>4</th>\n",
       "      <td>I'm not sure if this is the right career path ...</td>\n",
       "      <td>Career and Employment Services</td>\n",
       "    </tr>\n",
       "    <tr>\n",
       "      <th>5</th>\n",
       "      <td>The computer labs have really old computers, a...</td>\n",
       "      <td>Technology and Equipment</td>\n",
       "    </tr>\n",
       "    <tr>\n",
       "      <th>6</th>\n",
       "      <td>The process to apply for this course was so co...</td>\n",
       "      <td>Enrolment Process, Online Learning Platform</td>\n",
       "    </tr>\n",
       "    <tr>\n",
       "      <th>7</th>\n",
       "      <td>My work placement was very unorganized and I f...</td>\n",
       "      <td>Work Placement</td>\n",
       "    </tr>\n",
       "    <tr>\n",
       "      <th>8</th>\n",
       "      <td>The cost of the textbooks is way too high, and...</td>\n",
       "      <td>Course Fees and Payments</td>\n",
       "    </tr>\n",
       "    <tr>\n",
       "      <th>9</th>\n",
       "      <td>The person who was meant to help me with my en...</td>\n",
       "      <td>Enrolment Process, Communication and Information</td>\n",
       "    </tr>\n",
       "    <tr>\n",
       "      <th>10</th>\n",
       "      <td>This feedback is not about any of the topics.</td>\n",
       "      <td>No Match</td>\n",
       "    </tr>\n",
       "    <tr>\n",
       "      <th>11</th>\n",
       "      <td>I need help with my resume and job application...</td>\n",
       "      <td>Career and Employment Services</td>\n",
       "    </tr>\n",
       "    <tr>\n",
       "      <th>12</th>\n",
       "      <td>The fees for next semester seem to have increa...</td>\n",
       "      <td>Course Fees and Payments</td>\n",
       "    </tr>\n",
       "    <tr>\n",
       "      <th>13</th>\n",
       "      <td>The campus security could be better, I don't f...</td>\n",
       "      <td>Facilities and Campus Environment</td>\n",
       "    </tr>\n",
       "    <tr>\n",
       "      <th>14</th>\n",
       "      <td>I really enjoy the practical exercises in this...</td>\n",
       "      <td>Course Content and Relevance</td>\n",
       "    </tr>\n",
       "  </tbody>\n",
       "</table>\n",
       "</div>"
      ],
      "text/plain": [
       "                                        verbatim_text  \\\n",
       "0   My final assignment feedback was very vague, a...   \n",
       "1   My classes are all over the place. I have to c...   \n",
       "2   The course material is outdated; we're still l...   \n",
       "3   I tried to get help from the student welfare o...   \n",
       "4   I'm not sure if this is the right career path ...   \n",
       "5   The computer labs have really old computers, a...   \n",
       "6   The process to apply for this course was so co...   \n",
       "7   My work placement was very unorganized and I f...   \n",
       "8   The cost of the textbooks is way too high, and...   \n",
       "9   The person who was meant to help me with my en...   \n",
       "10      This feedback is not about any of the topics.   \n",
       "11  I need help with my resume and job application...   \n",
       "12  The fees for next semester seem to have increa...   \n",
       "13  The campus security could be better, I don't f...   \n",
       "14  I really enjoy the practical exercises in this...   \n",
       "\n",
       "                                              topics  \n",
       "0                            Assessment and Feedback  \n",
       "1                           Timetable and Scheduling  \n",
       "2                       Course Content and Relevance  \n",
       "3                      Student Welfare and Wellbeing  \n",
       "4                     Career and Employment Services  \n",
       "5                           Technology and Equipment  \n",
       "6        Enrolment Process, Online Learning Platform  \n",
       "7                                     Work Placement  \n",
       "8                           Course Fees and Payments  \n",
       "9   Enrolment Process, Communication and Information  \n",
       "10                                          No Match  \n",
       "11                    Career and Employment Services  \n",
       "12                          Course Fees and Payments  \n",
       "13                 Facilities and Campus Environment  \n",
       "14                      Course Content and Relevance  "
      ]
     },
     "metadata": {},
     "output_type": "display_data"
    }
   ],
   "source": [
    "# Convert result to dataframe\n",
    "df = pd.DataFrame(parsed_results)\n",
    "\n",
    "# If blank, then show No Match\n",
    "df['topics'] = df['topics'].apply(lambda x: 'No Match' if len(x)==0 else x)\n",
    "\n",
    "# Clean topic display\n",
    "df['topics'] = df['topics'].apply(lambda x: ', '.join(x) if isinstance(x, list) else x)\n",
    "\n",
    "print(\"\\n--- Final Results DataFrame ---\")\n",
    "display(df[['verbatim_text','topics']]) # Using display to render the DataFrame nicely in Jupyter/IPython"
   ]
  },
  {
   "cell_type": "code",
   "execution_count": null,
   "id": "d1012dc8-5b7a-4d6c-8644-ee988747c068",
   "metadata": {},
   "outputs": [],
   "source": []
  }
 ],
 "metadata": {
  "kernelspec": {
   "display_name": "Python 3 (ipykernel)",
   "language": "python",
   "name": "python3"
  },
  "language_info": {
   "codemirror_mode": {
    "name": "ipython",
    "version": 3
   },
   "file_extension": ".py",
   "mimetype": "text/x-python",
   "name": "python",
   "nbconvert_exporter": "python",
   "pygments_lexer": "ipython3",
   "version": "3.11.5"
  }
 },
 "nbformat": 4,
 "nbformat_minor": 5
}
